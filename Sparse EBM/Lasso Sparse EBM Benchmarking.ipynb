{
 "cells": [
  {
   "cell_type": "code",
   "execution_count": 10,
   "metadata": {},
   "outputs": [],
   "source": [
    "import sklearn\n",
    "import numpy as np\n",
    "from sklearn.tree import DecisionTreeRegressor\n",
    "from sklearn.datasets import load_boston\n",
    "from sklearn.datasets import load_diabetes\n",
    "from sklearn.datasets import load_breast_cancer\n",
    "import pandas as pd\n",
    "from sklearn import preprocessing\n",
    "import random\n",
    "from sklearn.ensemble import RandomForestRegressor\n",
    "import cvxpy as cp\n",
    "import matplotlib.pyplot as plt\n",
    "from gurobipy import *\n",
    "import multiprocessing as mp\n",
    "import time\n",
    "import gurobipy as gp\n",
    "from gurobipy import GRB\n",
    "import sklearn\n",
    "import numpy as np\n",
    "import mosek\n",
    "from sklearn.tree import DecisionTreeRegressor\n",
    "from sklearn.datasets import load_boston\n",
    "import pandas as pd\n",
    "from sklearn import preprocessing\n",
    "import random\n",
    "from sklearn.ensemble import RandomForestRegressor\n",
    "import cvxpy as cp\n",
    "import matplotlib.pyplot as plt\n",
    "from sklearn.ensemble import GradientBoostingRegressor\n",
    "import multiprocessing as mp\n",
    "import time\n",
    "from sklearn.model_selection import train_test_split\n",
    "import interpret\n",
    "from interpret import *\n",
    "\n",
    "from interpret.glassbox import ExplainableBoostingRegressor\n",
    "from interpret.glassbox import ExplainableBoostingClassifier\n",
    "\n",
    "pd.set_option('display.max_columns', None)"
   ]
  },
  {
   "cell_type": "code",
   "execution_count": 11,
   "metadata": {},
   "outputs": [],
   "source": [
    "def plot_tradeoff_curve(test_acc,nonzero,color,ntrials,label1):\n",
    "    results = pd.DataFrame()\n",
    "    for i in range(0,len(test_acc)):\n",
    "        results = results.append(pd.DataFrame(np.column_stack((test_acc[i],nonzero[i])),columns = ['test_acc','nonzero']))\n",
    "    agg = results.groupby(['nonzero'], as_index=False).agg({'test_acc':['mean','std']})\n",
    "    plt.figure(figsize=(16,10))\n",
    "    plt.scatter(agg['nonzero'],agg['test_acc']['mean'],color = color, label = label1)\n",
    "    plt.errorbar(agg['nonzero'],agg['test_acc']['mean'], 1.96*agg['test_acc']['std']/np.sqrt(ntrials),color = color)\n",
    "    plt.xlabel('Number of Nonzero Features')\n",
    "    plt.ylabel('Test Error')"
   ]
  },
  {
   "cell_type": "code",
   "execution_count": 12,
   "metadata": {},
   "outputs": [],
   "source": [
    "def build_ebm(xTrain,yTrain,xTest,yTest,lambd,threshold,prob_type):\n",
    "    \n",
    "    \n",
    "    if prob_type == 'Regression':\n",
    "        ebm = ExplainableBoostingRegressor(n_jobs = 3).fit(xTrain,yTrain)\n",
    "        pred = ebm.predict(xTest)\n",
    "    if prob_type == 'Classification':\n",
    "        ebm = ExplainableBoostingClassifier(n_jobs = 3).fit(xTrain,yTrain)\n",
    "        pred = ebm.predict_proba(xTest)[:,1]\n",
    "        \n",
    "    ebm_local = ebm.explain_local(xTrain, yTrain)\n",
    "    local_imp = []\n",
    "    for i in range(0,len(yTrain)):\n",
    "        scores = ebm_local._internal_obj.get('specific')[i].get('scores')\n",
    "        local_imp.append(scores)\n",
    "    local_imp = np.array(local_imp)\n",
    "    test_imp = []\n",
    "    ebm_test = ebm.explain_local(xTest,yTest)\n",
    "    for i in range(0,len(yTest)):\n",
    "        scores = ebm_test._internal_obj.get('specific')[i].get('scores')\n",
    "        test_imp.append(scores)\n",
    "    test_imp  = np.array(test_imp)\n",
    "    return([local_imp,test_imp])\n",
    "\n",
    "def solve_lasso(xTrain,yTrain,xTest,yTest,lambd,threshold,prob_type,ebm_result):\n",
    "    local_imp = ebm_result[0]\n",
    "    test_imp = ebm_result[1]\n",
    "    all_features = pd.DataFrame(xTrain.columns,columns = ['Features'])\n",
    "    w = cp.Variable(len(xTrain.columns),nonneg=True)\n",
    "    if prob_type == 'Regression':\n",
    "        objective = 0.5 * (1/len(yTrain))*cp.sum_squares(cp.matmul(local_imp,w)-yTrain) + \\\n",
    "                                                    lambd*cp.norm(w,1)\n",
    "    if prob_type == 'Classification':\n",
    "        loss = -cp.sum(cp.multiply(yTrain, local_imp@ w) - cp.logistic(local_imp @ w))\n",
    "        objective =  (1/len(yTrain))*loss + lambd*cp.norm(w,1)\n",
    "        \n",
    "\n",
    "    prob = cp.Problem(cp.Minimize(objective))\n",
    "    prob.solve(solver = cp.MOSEK ,mosek_params = {mosek.dparam.optimizer_max_time: 1000.0})\n",
    "    weights = np.asarray(w.value)\n",
    "    low_values_flags = np.abs(weights) < threshold  # Where values are low\n",
    "    weights[low_values_flags] = 0 \n",
    "    feature_ind = np.where(weights >0)[0]\n",
    "\n",
    "    if len(feature_ind) == 0:\n",
    "        if prob_type == 'Regression':\n",
    "            train_error =  np.sqrt(np.mean((yTrain)**2))\n",
    "            test_error = np.sqrt(np.mean((yTest)**2))\n",
    "            nonzero_features = 0\n",
    "            feature_importances = all_features\n",
    "            feature_importances['Importances'] = 0\n",
    "            return([feature_importances,test_error,nonzero_features,train_error])\n",
    "        if prob_type == 'Classification':\n",
    "            train_error =  .5\n",
    "            test_error = .5\n",
    "            nonzero_features = 0\n",
    "            feature_importances = all_features\n",
    "            feature_importances['Importances'] = 0\n",
    "            return([feature_importances,test_error,nonzero_features,train_error])\n",
    "\n",
    "    features_sub = xTrain.columns[feature_ind]\n",
    "    train_pred_non_zero = np.array([np.array(row[feature_ind]) for row in local_imp])\n",
    "    test_pred_non_zero = np.array([np.array(row[feature_ind]) for row in test_imp])\n",
    "\n",
    "    if prob_type == 'Regression':\n",
    "        final_tree_weights = cp.Variable(len(feature_ind), nonneg = True)\n",
    "        objective_final = cp.sum_squares(cp.matmul(train_pred_non_zero,final_tree_weights)-yTrain) \n",
    "        prob = cp.Problem(cp.Minimize(objective_final))\n",
    "        prob.solve(solver = cp.MOSEK ,mosek_params = {mosek.dparam.optimizer_max_time: 100.0})\n",
    "\n",
    "        final_train_pred = train_pred_non_zero@final_tree_weights.value\n",
    "        final_test_pred = test_pred_non_zero@final_tree_weights.value\n",
    "\n",
    "        train_error =  np.sqrt(np.mean((yTrain -final_train_pred)**2))\n",
    "        test_error = np.sqrt(np.mean((yTest -final_test_pred)**2))\n",
    "\n",
    "        importances = np.sum(np.abs(test_pred_non_zero),axis = 0)\n",
    "        feature_importances = pd.DataFrame(np.column_stack((features_sub,importances))\\\n",
    "                                          ,columns = ['Features','Importances'])\n",
    "        feature_importances = pd.merge(all_features,feature_importances,on = 'Features',how = 'left').fillna(0).\\\n",
    "                                sort_values('Importances',ascending = False)\n",
    "        nonzero_features = len(feature_ind)\n",
    "        return([feature_importances,test_error,nonzero_features,train_error])\n",
    "\n",
    "    if prob_type == 'Classification':\n",
    "        final_tree_weights = cp.Variable(len(feature_ind), nonneg = True)\n",
    "        loss = -cp.sum(cp.multiply(yTrain, train_pred_non_zero@ final_tree_weights) - cp.logistic(train_pred_non_zero @ final_tree_weights))\n",
    "        objective_final =  (1/len(yTrain))*loss\n",
    "        prob = cp.Problem(cp.Minimize(objective_final))\n",
    "        prob.solve(solver = cp.MOSEK,mosek_params = {mosek.dparam.optimizer_max_time: 100.0})\n",
    "\n",
    "        final_train_pred = train_pred_non_zero@final_tree_weights.value\n",
    "        final_test_pred = test_pred_non_zero@final_tree_weights.value\n",
    "\n",
    "        train_error =  sklearn.metrics.roc_auc_score(yTrain,final_train_pred)\n",
    "        test_error = sklearn.metrics.roc_auc_score(yTest,final_test_pred)\n",
    "\n",
    "        importances = np.sum(np.abs(test_pred_non_zero),axis = 0)\n",
    "        feature_importances = pd.DataFrame(np.column_stack((features_sub,importances))\\\n",
    "                                          ,columns = ['Features','Importances'])\n",
    "        feature_importances = pd.merge(all_features,feature_importances,on = 'Features',how = 'left').fillna(0).\\\n",
    "                                sort_values('Importances',ascending = False)\n",
    "        nonzero_features = len(feature_ind)\n",
    "        return([feature_importances,test_error,nonzero_features,train_error])\n",
    "    \n",
    "def sparse_ebm(xTrain,yTrain,xTest,yTest,lambd,threshold,prob_type):\n",
    "    res = build_ebm(xTrain,yTrain,xTest,yTest,lambd,threshold,prob_type)\n",
    "    return solve_lasso(xTrain,yTrain,xTest,yTest,lambd,threshold,prob_type,res)\n",
    "\n",
    "def baseline(xTrain,yTrain,xTest,yTest,problem_type,nonzero):\n",
    "    \n",
    "    if problem_type == 'Regression':\n",
    "        model = ExplainableBoostingRegressor(n_jobs = 3)\n",
    "    if problem_type == 'Classification':\n",
    "        model = ExplainableBoostingClassifier(n_jobs = 3)\n",
    "    \n",
    "    ebm = model.fit(xTrain,yTrain)\n",
    "    ebm_global = ebm.explain_global()\n",
    "    names = ebm_global._internal_obj.get('overall').get('names')\n",
    "    scores = ebm_global._internal_obj.get('overall').get('scores')\n",
    "    \n",
    "    imp = pd.DataFrame(np.column_stack((names,scores)),columns = ['features','scores']).sort_values('scores',ascending = False)\n",
    "    \n",
    "    print(imp)\n",
    "    acc =[]\n",
    "    n_features = []\n",
    "    se = []\n",
    "    for i in nonzero:\n",
    "        if i == 0:\n",
    "            acc.append(0.5)\n",
    "            se.append(0)\n",
    "            n_features.append(i)\n",
    "            continue\n",
    "            \n",
    "        to_use = imp.head(i)['features'].values\n",
    "        trial = 0\n",
    "        acc1 = []\n",
    "        while trial < 4:\n",
    "            \n",
    "            if problem_type == 'Regression':\n",
    "                model = ExplainableBoostingRegressor(n_jobs = 3)\n",
    "            if problem_type == 'Classification':\n",
    "                model = ExplainableBoostingClassifier(n_jobs = 3)\n",
    "            \n",
    "            ebm1 = model.fit(xTrain[to_use],yTrain)\n",
    "            \n",
    "            if problem_type == 'Regression':\n",
    "                pred = ebm1.predict(xTest[to_use])\n",
    "                acc1.append(np.sqrt(np.mean((yTest-pred)**2)))\n",
    "                \n",
    "            if problem_type == 'Classification':\n",
    "                pred = ebm1.predict_proba(xTest[to_use])[:,1]\n",
    "                acc1.append(sklearn.metrics.roc_auc_score(yTest,pred))\n",
    "            trial = trial+1\n",
    "        acc.append(np.mean(acc1))\n",
    "        se.append(np.std(acc1))\n",
    "        n_features.append(i)\n",
    "    return acc,n_features,se\n",
    "\n"
   ]
  },
  {
   "cell_type": "code",
   "execution_count": 13,
   "metadata": {},
   "outputs": [],
   "source": [
    "def load_breast_cancer():\n",
    "    dataset = load_breast_cancer()\n",
    "    X, y = dataset.data, dataset.target \n",
    "    X = pd.DataFrame(X,columns = dataset.feature_names)\n",
    "    features = dataset.feature_names\n",
    "    X = preprocessing.scale(X)\n",
    "    X = pd.DataFrame(X,columns = features)\n",
    "    xTrain, xTest, yTrain, yTest = train_test_split(X,y, test_size = 0.3)\n",
    "    return xTrain, xTest, yTrain, yTest\n",
    "\n",
    "def load_adult():\n",
    "    data = pd.read_csv(\n",
    "        \"https://archive.ics.uci.edu/ml/machine-learning-databases/adult/adult.data\",\n",
    "        header=None)\n",
    "    data.columns = [\n",
    "            \"Age\", \"WorkClass\", \"fnlwgt\", \"Education\", \"EducationNum\",\n",
    "            \"MaritalStatus\", \"Occupation\", \"Relationship\", \"Race\", \"Gender\",\n",
    "            \"CapitalGain\", \"CapitalLoss\", \"HoursPerWeek\", \"NativeCountry\", \"Income\"\n",
    "        ]\n",
    "    data['target'] = 0\n",
    "    data['target'].loc[data['Income']== data['Income'].unique()[1]] = 1\n",
    "    y = data['target']\n",
    "    data.drop(['target','Occupation','Income'],axis = 1, inplace = True)\n",
    "    data = pd.get_dummies(data, columns = ['WorkClass','Education','MaritalStatus','Relationship','Race','Gender'])\n",
    "    data['NativeCountry'] = data['NativeCountry'] == ' United-States'\n",
    "    data['NativeCountry'] = data['NativeCountry'].astype(int)\n",
    "    features = data.columns\n",
    "    X = preprocessing.scale(data)\n",
    "    X = pd.DataFrame(X,columns = features)\n",
    "    xTrain, xTest, yTrain, yTest = train_test_split(X,y, test_size = 0.3)\n",
    "    return xTrain, xTest, yTrain, yTest\n",
    "\n",
    "def load_heart():\n",
    "    data = pd.read_csv('heart.csv')\n",
    "    y = data['target']\n",
    "    data.drop(['target'],axis = 1, inplace = True)\n",
    "    features = data.columns\n",
    "    X = preprocessing.scale(data)\n",
    "    X = pd.DataFrame(X,columns = features)\n",
    "    xTrain, xTest, yTrain, yTest = train_test_split(X,y, test_size = 0.3)\n",
    "    return xTrain, xTest, yTrain, yTest\n",
    "\n",
    "def load_credit():\n",
    "    data = pd.read_csv('creditcard.csv')\n",
    "    data = data.sample(10000)\n",
    "    y = data['Class']\n",
    "    data.drop(['Class'],axis = 1, inplace = True)\n",
    "    features = data.columns\n",
    "    X = preprocessing.scale(data)\n",
    "    X = pd.DataFrame(X,columns = features)\n",
    "    xTrain, xTest, yTrain, yTest = train_test_split(X,y, test_size = 0.3)\n",
    "    return xTrain, xTest, yTrain, yTest\n",
    "\n",
    "def load_churn():\n",
    "    data = pd.read_csv('WA_Fn-UseC_-Telco-Customer-Churn.csv')\n",
    "    data['target'] = data['Churn'].map({'No':0,'Yes':1})\n",
    "    data = data[~data['target'].isnull()]\n",
    "    data = data[data['TotalCharges']!= ' ']\n",
    "    y = data['target']\n",
    "    data = data.drop(['customerID','Churn','target'],axis = 1)\n",
    "    data = pd.get_dummies(data, columns = ['gender','Partner', 'Dependents',\n",
    "                                           'PhoneService','MultipleLines','InternetService','Contract',\n",
    "                                           'PaymentMethod','OnlineSecurity','OnlineBackup','DeviceProtection'\n",
    "                                          ,'TechSupport','StreamingTV','StreamingMovies','PaperlessBilling'])\n",
    "    features = data.columns\n",
    "    X = preprocessing.scale(data)\n",
    "    X = pd.DataFrame(X,columns = features)\n",
    "    for col in features:\n",
    "        X[col] = X[col].fillna(np.nanmean(X[col]))\n",
    "    xTrain, xTest, yTrain, yTest = train_test_split(X,y, test_size = 0.3)\n",
    "    return xTrain, xTest, yTrain, yTest"
   ]
  },
  {
   "cell_type": "code",
   "execution_count": 14,
   "metadata": {},
   "outputs": [],
   "source": [
    "xTrain, xTest, yTrain, yTest = load_churn()"
   ]
  },
  {
   "cell_type": "code",
   "execution_count": null,
   "metadata": {},
   "outputs": [
    {
     "name": "stdout",
     "output_type": "stream",
     "text": [
      "   value  counts\n",
      "0      0       1 0.5\n"
     ]
    },
    {
     "name": "stderr",
     "output_type": "stream",
     "text": [
      "/opt/anaconda3/lib/python3.7/site-packages/ipykernel_launcher.py:32: DeprecationWarning: The truth value of an empty array is ambiguous. Returning False, but in future this will result in an error. Use `array.size > 0` to check that an array is not empty.\n"
     ]
    },
    {
     "name": "stdout",
     "output_type": "stream",
     "text": [
      "   value  counts\n",
      "0      0       2 0.25\n"
     ]
    },
    {
     "name": "stderr",
     "output_type": "stream",
     "text": [
      "/opt/anaconda3/lib/python3.7/site-packages/ipykernel_launcher.py:32: DeprecationWarning: The truth value of an empty array is ambiguous. Returning False, but in future this will result in an error. Use `array.size > 0` to check that an array is not empty.\n"
     ]
    },
    {
     "name": "stdout",
     "output_type": "stream",
     "text": [
      "   value  counts\n",
      "0      0       3 0.125\n",
      "   value  counts\n",
      "0      0       3\n",
      "1      1       1 0.0625\n",
      "   value  counts\n",
      "0      0       3\n",
      "1      1       1\n",
      "2      2       1 0.03125\n",
      "   value  counts\n",
      "0      0       3\n",
      "1      1       1\n",
      "2      2       1\n",
      "3      3       1 0.015625\n"
     ]
    },
    {
     "name": "stderr",
     "output_type": "stream",
     "text": [
      "/opt/anaconda3/lib/python3.7/site-packages/ipykernel_launcher.py:32: DeprecationWarning: The truth value of an empty array is ambiguous. Returning False, but in future this will result in an error. Use `array.size > 0` to check that an array is not empty.\n"
     ]
    },
    {
     "name": "stdout",
     "output_type": "stream",
     "text": [
      "   value  counts\n",
      "0      0       3\n",
      "1      1       1\n",
      "2      2       1\n",
      "3      3       2 0.0078125\n"
     ]
    },
    {
     "name": "stderr",
     "output_type": "stream",
     "text": [
      "/opt/anaconda3/lib/python3.7/site-packages/ipykernel_launcher.py:32: DeprecationWarning: The truth value of an empty array is ambiguous. Returning False, but in future this will result in an error. Use `array.size > 0` to check that an array is not empty.\n"
     ]
    },
    {
     "name": "stdout",
     "output_type": "stream",
     "text": [
      "   value  counts\n",
      "0      0       3\n",
      "1      1       1\n",
      "2      2       1\n",
      "3      3       2\n",
      "4      6       1 0.00390625\n",
      "   value  counts\n",
      "0      0       3\n",
      "1      1       1\n",
      "2      2       1\n",
      "3      3       2\n",
      "4      4       1\n",
      "5      6       1 0.005859375\n"
     ]
    },
    {
     "name": "stderr",
     "output_type": "stream",
     "text": [
      "/opt/anaconda3/lib/python3.7/site-packages/ipykernel_launcher.py:32: DeprecationWarning: The truth value of an empty array is ambiguous. Returning False, but in future this will result in an error. Use `array.size > 0` to check that an array is not empty.\n"
     ]
    },
    {
     "name": "stdout",
     "output_type": "stream",
     "text": [
      "   value  counts\n",
      "0      0       3\n",
      "1      1       1\n",
      "2      2       1\n",
      "3      3       2\n",
      "4      4       1\n",
      "5      6       1\n",
      "6      9       1 0.0029296875\n",
      "   value  counts\n",
      "0      0       3\n",
      "1      1       1\n",
      "2      2       1\n",
      "3      3       2\n",
      "4      4       1\n",
      "5      5       1\n",
      "6      6       1\n",
      "7      9       1 0.00439453125\n",
      "   value  counts\n",
      "0      0       3\n",
      "1      1       1\n",
      "2      2       1\n",
      "3      3       2\n",
      "4      4       1\n",
      "5      5       1\n",
      "6      6       1\n",
      "7      9       1\n",
      "8     10       1 0.002197265625\n"
     ]
    },
    {
     "name": "stderr",
     "output_type": "stream",
     "text": [
      "/opt/anaconda3/lib/python3.7/site-packages/ipykernel_launcher.py:32: DeprecationWarning: The truth value of an empty array is ambiguous. Returning False, but in future this will result in an error. Use `array.size > 0` to check that an array is not empty.\n"
     ]
    },
    {
     "name": "stdout",
     "output_type": "stream",
     "text": [
      "   value  counts\n",
      "0      0       3\n",
      "1      1       1\n",
      "2      2       1\n",
      "3      3       2\n",
      "4      4       1\n",
      "5      5       1\n",
      "6      6       1\n",
      "7      9       1\n",
      "8     10       1\n",
      "9     13       1 0.0010986328125\n"
     ]
    },
    {
     "name": "stderr",
     "output_type": "stream",
     "text": [
      "/opt/anaconda3/lib/python3.7/site-packages/ipykernel_launcher.py:32: DeprecationWarning: The truth value of an empty array is ambiguous. Returning False, but in future this will result in an error. Use `array.size > 0` to check that an array is not empty.\n"
     ]
    },
    {
     "name": "stdout",
     "output_type": "stream",
     "text": [
      "    value  counts\n",
      "0       0       3\n",
      "1       1       1\n",
      "2       2       1\n",
      "3       3       2\n",
      "4       4       1\n",
      "5       5       1\n",
      "6       6       1\n",
      "7       9       1\n",
      "8      10       1\n",
      "9      11       1\n",
      "10     13       1 0.00164794921875\n"
     ]
    },
    {
     "name": "stderr",
     "output_type": "stream",
     "text": [
      "/opt/anaconda3/lib/python3.7/site-packages/ipykernel_launcher.py:32: DeprecationWarning: The truth value of an empty array is ambiguous. Returning False, but in future this will result in an error. Use `array.size > 0` to check that an array is not empty.\n"
     ]
    },
    {
     "name": "stdout",
     "output_type": "stream",
     "text": [
      "    value  counts\n",
      "0       0       3\n",
      "1       1       1\n",
      "2       2       1\n",
      "3       3       2\n",
      "4       4       1\n",
      "5       5       1\n",
      "6       6       1\n",
      "7       9       1\n",
      "8      10       1\n",
      "9      11       2\n",
      "10     13       1 0.001922607421875\n"
     ]
    },
    {
     "name": "stderr",
     "output_type": "stream",
     "text": [
      "/opt/anaconda3/lib/python3.7/site-packages/ipykernel_launcher.py:32: DeprecationWarning: The truth value of an empty array is ambiguous. Returning False, but in future this will result in an error. Use `array.size > 0` to check that an array is not empty.\n"
     ]
    },
    {
     "name": "stdout",
     "output_type": "stream",
     "text": [
      "    value  counts\n",
      "0       0       3\n",
      "1       1       1\n",
      "2       2       1\n",
      "3       3       2\n",
      "4       4       1\n",
      "5       5       1\n",
      "6       6       1\n",
      "7       9       1\n",
      "8      10       1\n",
      "9      11       3\n",
      "10     13       1 0.0020599365234375\n"
     ]
    },
    {
     "name": "stderr",
     "output_type": "stream",
     "text": [
      "/opt/anaconda3/lib/python3.7/site-packages/ipykernel_launcher.py:32: DeprecationWarning: The truth value of an empty array is ambiguous. Returning False, but in future this will result in an error. Use `array.size > 0` to check that an array is not empty.\n"
     ]
    },
    {
     "name": "stdout",
     "output_type": "stream",
     "text": [
      "    value  counts\n",
      "0       0       3\n",
      "1       1       1\n",
      "2       2       1\n",
      "3       3       2\n",
      "4       4       1\n",
      "5       5       1\n",
      "6       6       1\n",
      "7       9       1\n",
      "8      10       1\n",
      "9      11       4\n",
      "10     13       1 0.00212860107421875\n"
     ]
    },
    {
     "name": "stderr",
     "output_type": "stream",
     "text": [
      "/opt/anaconda3/lib/python3.7/site-packages/ipykernel_launcher.py:32: DeprecationWarning: The truth value of an empty array is ambiguous. Returning False, but in future this will result in an error. Use `array.size > 0` to check that an array is not empty.\n"
     ]
    },
    {
     "name": "stdout",
     "output_type": "stream",
     "text": [
      "    value  counts\n",
      "0       0       3\n",
      "1       1       1\n",
      "2       2       1\n",
      "3       3       2\n",
      "4       4       1\n",
      "5       5       1\n",
      "6       6       1\n",
      "7       9       1\n",
      "8      10       1\n",
      "9      11       5\n",
      "10     13       1 0.002162933349609375\n"
     ]
    },
    {
     "name": "stderr",
     "output_type": "stream",
     "text": [
      "/opt/anaconda3/lib/python3.7/site-packages/ipykernel_launcher.py:32: DeprecationWarning: The truth value of an empty array is ambiguous. Returning False, but in future this will result in an error. Use `array.size > 0` to check that an array is not empty.\n"
     ]
    },
    {
     "name": "stdout",
     "output_type": "stream",
     "text": [
      "    value  counts\n",
      "0       0       3\n",
      "1       1       1\n",
      "2       2       1\n",
      "3       3       2\n",
      "4       4       1\n",
      "5       5       1\n",
      "6       6       1\n",
      "7       9       1\n",
      "8      10       1\n",
      "9      11       5\n",
      "10     13       2 0.0010814666748046875\n"
     ]
    },
    {
     "name": "stderr",
     "output_type": "stream",
     "text": [
      "/opt/anaconda3/lib/python3.7/site-packages/ipykernel_launcher.py:32: DeprecationWarning: The truth value of an empty array is ambiguous. Returning False, but in future this will result in an error. Use `array.size > 0` to check that an array is not empty.\n"
     ]
    },
    {
     "name": "stdout",
     "output_type": "stream",
     "text": [
      "    value  counts\n",
      "0       0       3\n",
      "1       1       1\n",
      "2       2       1\n",
      "3       3       2\n",
      "4       4       1\n",
      "5       5       1\n",
      "6       6       1\n",
      "7       9       1\n",
      "8      10       1\n",
      "9      11       6\n",
      "10     13       2 0.0016222000122070312\n"
     ]
    },
    {
     "name": "stderr",
     "output_type": "stream",
     "text": [
      "/opt/anaconda3/lib/python3.7/site-packages/ipykernel_launcher.py:32: DeprecationWarning: The truth value of an empty array is ambiguous. Returning False, but in future this will result in an error. Use `array.size > 0` to check that an array is not empty.\n"
     ]
    },
    {
     "name": "stdout",
     "output_type": "stream",
     "text": [
      "    value  counts\n",
      "0       0       3\n",
      "1       1       1\n",
      "2       2       1\n",
      "3       3       2\n",
      "4       4       1\n",
      "5       5       1\n",
      "6       6       1\n",
      "7       9       1\n",
      "8      10       1\n",
      "9      11       7\n",
      "10     13       2 0.0018925666809082031\n"
     ]
    },
    {
     "name": "stderr",
     "output_type": "stream",
     "text": [
      "/opt/anaconda3/lib/python3.7/site-packages/ipykernel_launcher.py:32: DeprecationWarning: The truth value of an empty array is ambiguous. Returning False, but in future this will result in an error. Use `array.size > 0` to check that an array is not empty.\n"
     ]
    },
    {
     "name": "stdout",
     "output_type": "stream",
     "text": [
      "    value  counts\n",
      "0       0       3\n",
      "1       1       1\n",
      "2       2       1\n",
      "3       3       2\n",
      "4       4       1\n",
      "5       5       1\n",
      "6       6       1\n",
      "7       9       1\n",
      "8      10       1\n",
      "9      11       8\n",
      "10     13       2 0.002027750015258789\n"
     ]
    },
    {
     "name": "stderr",
     "output_type": "stream",
     "text": [
      "/opt/anaconda3/lib/python3.7/site-packages/ipykernel_launcher.py:32: DeprecationWarning: The truth value of an empty array is ambiguous. Returning False, but in future this will result in an error. Use `array.size > 0` to check that an array is not empty.\n"
     ]
    },
    {
     "name": "stdout",
     "output_type": "stream",
     "text": [
      "    value  counts\n",
      "0       0       3\n",
      "1       1       1\n",
      "2       2       1\n",
      "3       3       2\n",
      "4       4       1\n",
      "5       5       1\n",
      "6       6       1\n",
      "7       9       1\n",
      "8      10       1\n",
      "9      11       9\n",
      "10     13       2 0.002095341682434082\n"
     ]
    },
    {
     "name": "stderr",
     "output_type": "stream",
     "text": [
      "/opt/anaconda3/lib/python3.7/site-packages/ipykernel_launcher.py:32: DeprecationWarning: The truth value of an empty array is ambiguous. Returning False, but in future this will result in an error. Use `array.size > 0` to check that an array is not empty.\n"
     ]
    },
    {
     "name": "stdout",
     "output_type": "stream",
     "text": [
      "    value  counts\n",
      "0       0       3\n",
      "1       1       1\n",
      "2       2       1\n",
      "3       3       2\n",
      "4       4       1\n",
      "5       5       1\n",
      "6       6       1\n",
      "7       9       1\n",
      "8      10       1\n",
      "9      11      10\n",
      "10     13       2 0.0021291375160217285\n",
      "    value  counts\n",
      "0       0       3\n",
      "1       1       1\n",
      "2       2       1\n",
      "3       3       2\n",
      "4       4       1\n",
      "5       5       1\n",
      "6       6       1\n",
      "7       9       1\n",
      "8      10       1\n",
      "9      11      10\n",
      "10     13       3 0.0010645687580108643\n",
      "    value  counts\n",
      "0       0       3\n",
      "1       1       1\n",
      "2       2       1\n",
      "3       3       2\n",
      "4       4       1\n",
      "5       5       1\n",
      "6       6       1\n",
      "7       9       1\n",
      "8      10       1\n",
      "9      11      10\n",
      "10     13       3\n",
      "11     15       1 0.0005322843790054321\n",
      "    value  counts\n",
      "0       0       3\n",
      "1       1       1\n",
      "2       2       1\n",
      "3       3       2\n",
      "4       4       1\n",
      "5       5       1\n",
      "6       6       1\n",
      "7       9       1\n",
      "8      10       1\n",
      "9      11      10\n",
      "10     13       3\n",
      "11     15       1\n",
      "12     16       1 0.00026614218950271606\n"
     ]
    },
    {
     "name": "stderr",
     "output_type": "stream",
     "text": [
      "/opt/anaconda3/lib/python3.7/site-packages/ipykernel_launcher.py:32: DeprecationWarning: The truth value of an empty array is ambiguous. Returning False, but in future this will result in an error. Use `array.size > 0` to check that an array is not empty.\n"
     ]
    },
    {
     "name": "stdout",
     "output_type": "stream",
     "text": [
      "    value  counts\n",
      "0       0       3\n",
      "1       1       1\n",
      "2       2       1\n",
      "3       3       2\n",
      "4       4       1\n",
      "5       5       1\n",
      "6       6       1\n",
      "7       9       1\n",
      "8      10       1\n",
      "9      11      10\n",
      "10     13       3\n",
      "11     15       1\n",
      "12     16       1\n",
      "13     19       1 0.00013307109475135803\n"
     ]
    },
    {
     "name": "stderr",
     "output_type": "stream",
     "text": [
      "/opt/anaconda3/lib/python3.7/site-packages/ipykernel_launcher.py:32: DeprecationWarning: The truth value of an empty array is ambiguous. Returning False, but in future this will result in an error. Use `array.size > 0` to check that an array is not empty.\n"
     ]
    },
    {
     "name": "stdout",
     "output_type": "stream",
     "text": [
      "    value  counts\n",
      "0       0       3\n",
      "1       1       1\n",
      "2       2       1\n",
      "3       3       2\n",
      "4       4       1\n",
      "5       5       1\n",
      "6       6       1\n",
      "7       9       1\n",
      "8      10       1\n",
      "9      11      10\n",
      "10     13       3\n",
      "11     15       1\n",
      "12     16       1\n",
      "13     19       2 0.00019960664212703705\n"
     ]
    },
    {
     "name": "stderr",
     "output_type": "stream",
     "text": [
      "/opt/anaconda3/lib/python3.7/site-packages/ipykernel_launcher.py:32: DeprecationWarning: The truth value of an empty array is ambiguous. Returning False, but in future this will result in an error. Use `array.size > 0` to check that an array is not empty.\n"
     ]
    },
    {
     "name": "stdout",
     "output_type": "stream",
     "text": [
      "    value  counts\n",
      "0       0       3\n",
      "1       1       1\n",
      "2       2       1\n",
      "3       3       2\n",
      "4       4       1\n",
      "5       5       1\n",
      "6       6       1\n",
      "7       9       1\n",
      "8      10       1\n",
      "9      11      10\n",
      "10     13       3\n",
      "11     15       1\n",
      "12     16       1\n",
      "13     17       1\n",
      "14     19       2 0.00023287441581487656\n"
     ]
    },
    {
     "name": "stderr",
     "output_type": "stream",
     "text": [
      "/opt/anaconda3/lib/python3.7/site-packages/ipykernel_launcher.py:32: DeprecationWarning: The truth value of an empty array is ambiguous. Returning False, but in future this will result in an error. Use `array.size > 0` to check that an array is not empty.\n"
     ]
    },
    {
     "name": "stdout",
     "output_type": "stream",
     "text": [
      "    value  counts\n",
      "0       0       3\n",
      "1       1       1\n",
      "2       2       1\n",
      "3       3       2\n",
      "4       4       1\n",
      "5       5       1\n",
      "6       6       1\n",
      "7       9       1\n",
      "8      10       1\n",
      "9      11      10\n",
      "10     13       3\n",
      "11     15       1\n",
      "12     16       2\n",
      "13     17       1\n",
      "14     19       2 0.0002495083026587963\n"
     ]
    },
    {
     "name": "stderr",
     "output_type": "stream",
     "text": [
      "/opt/anaconda3/lib/python3.7/site-packages/ipykernel_launcher.py:32: DeprecationWarning: The truth value of an empty array is ambiguous. Returning False, but in future this will result in an error. Use `array.size > 0` to check that an array is not empty.\n"
     ]
    },
    {
     "name": "stdout",
     "output_type": "stream",
     "text": [
      "    value  counts\n",
      "0       0       3\n",
      "1       1       1\n",
      "2       2       1\n",
      "3       3       2\n",
      "4       4       1\n",
      "5       5       1\n",
      "6       6       1\n",
      "7       9       1\n",
      "8      10       1\n",
      "9      11      10\n",
      "10     13       3\n",
      "11     15       1\n",
      "12     16       3\n",
      "13     17       1\n",
      "14     19       2 0.0002578252460807562\n"
     ]
    },
    {
     "name": "stderr",
     "output_type": "stream",
     "text": [
      "/opt/anaconda3/lib/python3.7/site-packages/ipykernel_launcher.py:32: DeprecationWarning: The truth value of an empty array is ambiguous. Returning False, but in future this will result in an error. Use `array.size > 0` to check that an array is not empty.\n"
     ]
    },
    {
     "name": "stdout",
     "output_type": "stream",
     "text": [
      "    value  counts\n",
      "0       0       3\n",
      "1       1       1\n",
      "2       2       1\n",
      "3       3       2\n",
      "4       4       1\n",
      "5       5       1\n",
      "6       6       1\n",
      "7       9       1\n",
      "8      10       1\n",
      "9      11      10\n",
      "10     13       3\n",
      "11     15       1\n",
      "12     16       4\n",
      "13     17       1\n",
      "14     19       2 0.0002619837177917361\n",
      "    value  counts\n",
      "0       0       3\n",
      "1       1       1\n",
      "2       2       1\n",
      "3       3       2\n",
      "4       4       1\n",
      "5       5       1\n",
      "6       6       1\n",
      "7       9       1\n",
      "8      10       1\n",
      "9      11      10\n",
      "10     13       3\n",
      "11     15       1\n",
      "12     16       4\n",
      "13     17       1\n",
      "14     19       3 0.00013099185889586806\n"
     ]
    },
    {
     "name": "stderr",
     "output_type": "stream",
     "text": [
      "/opt/anaconda3/lib/python3.7/site-packages/ipykernel_launcher.py:32: DeprecationWarning: The truth value of an empty array is ambiguous. Returning False, but in future this will result in an error. Use `array.size > 0` to check that an array is not empty.\n"
     ]
    },
    {
     "name": "stdout",
     "output_type": "stream",
     "text": [
      "    value  counts\n",
      "0       0       3\n",
      "1       1       1\n",
      "2       2       1\n",
      "3       3       2\n",
      "4       4       1\n",
      "5       5       1\n",
      "6       6       1\n",
      "7       9       1\n",
      "8      10       1\n",
      "9      11      10\n",
      "10     13       3\n",
      "11     15       1\n",
      "12     16       4\n",
      "13     17       1\n",
      "14     19       3\n",
      "15     21       1 6.549592944793403e-05\n"
     ]
    },
    {
     "name": "stderr",
     "output_type": "stream",
     "text": [
      "/opt/anaconda3/lib/python3.7/site-packages/ipykernel_launcher.py:32: DeprecationWarning: The truth value of an empty array is ambiguous. Returning False, but in future this will result in an error. Use `array.size > 0` to check that an array is not empty.\n"
     ]
    },
    {
     "name": "stdout",
     "output_type": "stream",
     "text": [
      "    value  counts\n",
      "0       0       3\n",
      "1       1       1\n",
      "2       2       1\n",
      "3       3       2\n",
      "4       4       1\n",
      "5       5       1\n",
      "6       6       1\n",
      "7       9       1\n",
      "8      10       1\n",
      "9      11      10\n",
      "10     13       3\n",
      "11     15       1\n",
      "12     16       4\n",
      "13     17       1\n",
      "14     19       4\n",
      "15     21       1 9.824389417190105e-05\n"
     ]
    },
    {
     "name": "stderr",
     "output_type": "stream",
     "text": [
      "/opt/anaconda3/lib/python3.7/site-packages/ipykernel_launcher.py:32: DeprecationWarning: The truth value of an empty array is ambiguous. Returning False, but in future this will result in an error. Use `array.size > 0` to check that an array is not empty.\n"
     ]
    },
    {
     "name": "stdout",
     "output_type": "stream",
     "text": [
      "    value  counts\n",
      "0       0       3\n",
      "1       1       1\n",
      "2       2       1\n",
      "3       3       2\n",
      "4       4       1\n",
      "5       5       1\n",
      "6       6       1\n",
      "7       9       1\n",
      "8      10       1\n",
      "9      11      10\n",
      "10     13       3\n",
      "11     15       1\n",
      "12     16       4\n",
      "13     17       1\n",
      "14     19       5\n",
      "15     21       1 0.00011461787653388456\n"
     ]
    },
    {
     "name": "stderr",
     "output_type": "stream",
     "text": [
      "/opt/anaconda3/lib/python3.7/site-packages/ipykernel_launcher.py:32: DeprecationWarning: The truth value of an empty array is ambiguous. Returning False, but in future this will result in an error. Use `array.size > 0` to check that an array is not empty.\n"
     ]
    },
    {
     "name": "stdout",
     "output_type": "stream",
     "text": [
      "    value  counts\n",
      "0       0       3\n",
      "1       1       1\n",
      "2       2       1\n",
      "3       3       2\n",
      "4       4       1\n",
      "5       5       1\n",
      "6       6       1\n",
      "7       9       1\n",
      "8      10       1\n",
      "9      11      10\n",
      "10     13       3\n",
      "11     15       1\n",
      "12     16       4\n",
      "13     17       1\n",
      "14     19       6\n",
      "15     21       1 0.0001228048677148763\n"
     ]
    },
    {
     "name": "stderr",
     "output_type": "stream",
     "text": [
      "/opt/anaconda3/lib/python3.7/site-packages/ipykernel_launcher.py:32: DeprecationWarning: The truth value of an empty array is ambiguous. Returning False, but in future this will result in an error. Use `array.size > 0` to check that an array is not empty.\n"
     ]
    },
    {
     "name": "stdout",
     "output_type": "stream",
     "text": [
      "    value  counts\n",
      "0       0       3\n",
      "1       1       1\n",
      "2       2       1\n",
      "3       3       2\n",
      "4       4       1\n",
      "5       5       1\n",
      "6       6       1\n",
      "7       9       1\n",
      "8      10       1\n",
      "9      11      10\n",
      "10     13       3\n",
      "11     15       1\n",
      "12     16       4\n",
      "13     17       1\n",
      "14     19       7\n",
      "15     21       1 0.00012689836330537219\n"
     ]
    },
    {
     "name": "stderr",
     "output_type": "stream",
     "text": [
      "/opt/anaconda3/lib/python3.7/site-packages/ipykernel_launcher.py:32: DeprecationWarning: The truth value of an empty array is ambiguous. Returning False, but in future this will result in an error. Use `array.size > 0` to check that an array is not empty.\n"
     ]
    },
    {
     "name": "stdout",
     "output_type": "stream",
     "text": [
      "    value  counts\n",
      "0       0       3\n",
      "1       1       1\n",
      "2       2       1\n",
      "3       3       2\n",
      "4       4       1\n",
      "5       5       1\n",
      "6       6       1\n",
      "7       9       1\n",
      "8      10       1\n",
      "9      11      10\n",
      "10     13       3\n",
      "11     15       1\n",
      "12     16       4\n",
      "13     17       1\n",
      "14     19       8\n",
      "15     21       1 0.00012894511110062012\n",
      "    value  counts\n",
      "0       0       3\n",
      "1       1       1\n",
      "2       2       1\n",
      "3       3       2\n",
      "4       4       1\n",
      "5       5       1\n",
      "6       6       1\n",
      "7       9       1\n",
      "8      10       1\n",
      "9      11      10\n",
      "10     13       3\n",
      "11     15       1\n",
      "12     16       4\n",
      "13     17       1\n",
      "14     19       8\n",
      "15     21       2 6.447255555031006e-05\n",
      "    value  counts\n",
      "0       0       3\n",
      "1       1       1\n",
      "2       2       1\n",
      "3       3       2\n",
      "4       4       1\n",
      "5       5       1\n",
      "6       6       1\n",
      "7       9       1\n",
      "8      10       1\n",
      "9      11      10\n",
      "10     13       3\n",
      "11     15       1\n",
      "12     16       4\n",
      "13     17       1\n",
      "14     19       8\n",
      "15     21       2\n",
      "16     22       1 3.223627777515503e-05\n",
      "    value  counts\n",
      "0       0       3\n",
      "1       1       1\n",
      "2       2       1\n",
      "3       3       2\n",
      "4       4       1\n",
      "5       5       1\n",
      "6       6       1\n",
      "7       9       1\n",
      "8      10       1\n",
      "9      11      10\n",
      "10     13       3\n",
      "11     15       1\n",
      "12     16       4\n",
      "13     17       1\n",
      "14     19       8\n",
      "15     21       2\n",
      "16     22       2 1.6118138887577516e-05\n"
     ]
    },
    {
     "name": "stderr",
     "output_type": "stream",
     "text": [
      "/opt/anaconda3/lib/python3.7/site-packages/ipykernel_launcher.py:32: DeprecationWarning: The truth value of an empty array is ambiguous. Returning False, but in future this will result in an error. Use `array.size > 0` to check that an array is not empty.\n"
     ]
    },
    {
     "name": "stdout",
     "output_type": "stream",
     "text": [
      "    value  counts\n",
      "0       0       3\n",
      "1       1       1\n",
      "2       2       1\n",
      "3       3       2\n",
      "4       4       1\n",
      "5       5       1\n",
      "6       6       1\n",
      "7       9       1\n",
      "8      10       1\n",
      "9      11      10\n",
      "10     13       3\n",
      "11     15       1\n",
      "12     16       4\n",
      "13     17       1\n",
      "14     19       8\n",
      "15     21       2\n",
      "16     22       3 8.059069443788758e-06\n"
     ]
    },
    {
     "name": "stderr",
     "output_type": "stream",
     "text": [
      "/opt/anaconda3/lib/python3.7/site-packages/ipykernel_launcher.py:32: DeprecationWarning: The truth value of an empty array is ambiguous. Returning False, but in future this will result in an error. Use `array.size > 0` to check that an array is not empty.\n"
     ]
    },
    {
     "name": "stdout",
     "output_type": "stream",
     "text": [
      "    value  counts\n",
      "0       0       3\n",
      "1       1       1\n",
      "2       2       1\n",
      "3       3       2\n",
      "4       4       1\n",
      "5       5       1\n",
      "6       6       1\n",
      "7       9       1\n",
      "8      10       1\n",
      "9      11      10\n",
      "10     13       3\n",
      "11     15       1\n",
      "12     16       4\n",
      "13     17       1\n",
      "14     19       8\n",
      "15     21       2\n",
      "16     22       4 1.2088604165683137e-05\n"
     ]
    },
    {
     "name": "stderr",
     "output_type": "stream",
     "text": [
      "/opt/anaconda3/lib/python3.7/site-packages/ipykernel_launcher.py:32: DeprecationWarning: The truth value of an empty array is ambiguous. Returning False, but in future this will result in an error. Use `array.size > 0` to check that an array is not empty.\n"
     ]
    },
    {
     "name": "stdout",
     "output_type": "stream",
     "text": [
      "    value  counts\n",
      "0       0       3\n",
      "1       1       1\n",
      "2       2       1\n",
      "3       3       2\n",
      "4       4       1\n",
      "5       5       1\n",
      "6       6       1\n",
      "7       9       1\n",
      "8      10       1\n",
      "9      11      10\n",
      "10     13       3\n",
      "11     15       1\n",
      "12     16       4\n",
      "13     17       1\n",
      "14     19       8\n",
      "15     21       2\n",
      "16     22       5 1.4103371526630326e-05\n"
     ]
    },
    {
     "name": "stderr",
     "output_type": "stream",
     "text": [
      "/opt/anaconda3/lib/python3.7/site-packages/ipykernel_launcher.py:32: DeprecationWarning: The truth value of an empty array is ambiguous. Returning False, but in future this will result in an error. Use `array.size > 0` to check that an array is not empty.\n"
     ]
    },
    {
     "name": "stdout",
     "output_type": "stream",
     "text": [
      "    value  counts\n",
      "0       0       3\n",
      "1       1       1\n",
      "2       2       1\n",
      "3       3       2\n",
      "4       4       1\n",
      "5       5       1\n",
      "6       6       1\n",
      "7       9       1\n",
      "8      10       1\n",
      "9      11      10\n",
      "10     13       3\n",
      "11     15       1\n",
      "12     16       4\n",
      "13     17       1\n",
      "14     19       8\n",
      "15     21       2\n",
      "16     22       6 1.511075520710392e-05\n"
     ]
    },
    {
     "name": "stderr",
     "output_type": "stream",
     "text": [
      "/opt/anaconda3/lib/python3.7/site-packages/ipykernel_launcher.py:32: DeprecationWarning: The truth value of an empty array is ambiguous. Returning False, but in future this will result in an error. Use `array.size > 0` to check that an array is not empty.\n"
     ]
    },
    {
     "name": "stdout",
     "output_type": "stream",
     "text": [
      "    value  counts\n",
      "0       0       3\n",
      "1       1       1\n",
      "2       2       1\n",
      "3       3       2\n",
      "4       4       1\n",
      "5       5       1\n",
      "6       6       1\n",
      "7       9       1\n",
      "8      10       1\n",
      "9      11      10\n",
      "10     13       3\n",
      "11     15       1\n",
      "12     16       4\n",
      "13     17       1\n",
      "14     19       8\n",
      "15     21       2\n",
      "16     22       7 1.5614447047340718e-05\n"
     ]
    },
    {
     "name": "stderr",
     "output_type": "stream",
     "text": [
      "/opt/anaconda3/lib/python3.7/site-packages/ipykernel_launcher.py:32: DeprecationWarning: The truth value of an empty array is ambiguous. Returning False, but in future this will result in an error. Use `array.size > 0` to check that an array is not empty.\n"
     ]
    },
    {
     "name": "stdout",
     "output_type": "stream",
     "text": [
      "    value  counts\n",
      "0       0       3\n",
      "1       1       1\n",
      "2       2       1\n",
      "3       3       2\n",
      "4       4       1\n",
      "5       5       1\n",
      "6       6       1\n",
      "7       9       1\n",
      "8      10       1\n",
      "9      11      10\n",
      "10     13       3\n",
      "11     15       1\n",
      "12     16       4\n",
      "13     17       1\n",
      "14     19       8\n",
      "15     21       2\n",
      "16     22       8 1.5866292967459117e-05\n",
      "    value  counts\n",
      "0       0       3\n",
      "1       1       1\n",
      "2       2       1\n",
      "3       3       2\n",
      "4       4       1\n",
      "5       5       1\n",
      "6       6       1\n",
      "7       9       1\n",
      "8      10       1\n",
      "9      11      10\n",
      "10     13       3\n",
      "11     15       1\n",
      "12     16       4\n",
      "13     17       1\n",
      "14     19       8\n",
      "15     21       2\n",
      "16     22       9 7.933146483729558e-06\n"
     ]
    },
    {
     "name": "stderr",
     "output_type": "stream",
     "text": [
      "/opt/anaconda3/lib/python3.7/site-packages/ipykernel_launcher.py:32: DeprecationWarning: The truth value of an empty array is ambiguous. Returning False, but in future this will result in an error. Use `array.size > 0` to check that an array is not empty.\n"
     ]
    },
    {
     "name": "stdout",
     "output_type": "stream",
     "text": [
      "    value  counts\n",
      "0       0       3\n",
      "1       1       1\n",
      "2       2       1\n",
      "3       3       2\n",
      "4       4       1\n",
      "5       5       1\n",
      "6       6       1\n",
      "7       9       1\n",
      "8      10       1\n",
      "9      11      10\n",
      "10     13       3\n",
      "11     15       1\n",
      "12     16       4\n",
      "13     17       1\n",
      "14     19       8\n",
      "15     21       2\n",
      "16     22      10 3.966573241864779e-06\n"
     ]
    },
    {
     "name": "stderr",
     "output_type": "stream",
     "text": [
      "/opt/anaconda3/lib/python3.7/site-packages/ipykernel_launcher.py:32: DeprecationWarning: The truth value of an empty array is ambiguous. Returning False, but in future this will result in an error. Use `array.size > 0` to check that an array is not empty.\n"
     ]
    },
    {
     "name": "stdout",
     "output_type": "stream",
     "text": [
      "    value  counts\n",
      "0       0       3\n",
      "1       1       1\n",
      "2       2       1\n",
      "3       3       2\n",
      "4       4       1\n",
      "5       5       1\n",
      "6       6       1\n",
      "7       9       1\n",
      "8      10       1\n",
      "9      11      10\n",
      "10     13       3\n",
      "11     15       1\n",
      "12     16       4\n",
      "13     17       1\n",
      "14     19       8\n",
      "15     21       2\n",
      "16     22      11 5.949859862797169e-06\n"
     ]
    },
    {
     "name": "stderr",
     "output_type": "stream",
     "text": [
      "/opt/anaconda3/lib/python3.7/site-packages/ipykernel_launcher.py:32: DeprecationWarning: The truth value of an empty array is ambiguous. Returning False, but in future this will result in an error. Use `array.size > 0` to check that an array is not empty.\n"
     ]
    },
    {
     "name": "stdout",
     "output_type": "stream",
     "text": [
      "    value  counts\n",
      "0       0       3\n",
      "1       1       1\n",
      "2       2       1\n",
      "3       3       2\n",
      "4       4       1\n",
      "5       5       1\n",
      "6       6       1\n",
      "7       9       1\n",
      "8      10       1\n",
      "9      11      10\n",
      "10     13       3\n",
      "11     15       1\n",
      "12     16       4\n",
      "13     17       1\n",
      "14     19       8\n",
      "15     21       2\n",
      "16     22      12 6.941503173263364e-06\n"
     ]
    },
    {
     "name": "stderr",
     "output_type": "stream",
     "text": [
      "/opt/anaconda3/lib/python3.7/site-packages/ipykernel_launcher.py:32: DeprecationWarning: The truth value of an empty array is ambiguous. Returning False, but in future this will result in an error. Use `array.size > 0` to check that an array is not empty.\n"
     ]
    },
    {
     "name": "stdout",
     "output_type": "stream",
     "text": [
      "    value  counts\n",
      "0       0       3\n",
      "1       1       1\n",
      "2       2       1\n",
      "3       3       2\n",
      "4       4       1\n",
      "5       5       1\n",
      "6       6       1\n",
      "7       9       1\n",
      "8      10       1\n",
      "9      11      10\n",
      "10     13       3\n",
      "11     15       1\n",
      "12     16       4\n",
      "13     17       1\n",
      "14     19       8\n",
      "15     21       2\n",
      "16     22      13 7.437324828496461e-06\n"
     ]
    },
    {
     "name": "stderr",
     "output_type": "stream",
     "text": [
      "/opt/anaconda3/lib/python3.7/site-packages/ipykernel_launcher.py:32: DeprecationWarning: The truth value of an empty array is ambiguous. Returning False, but in future this will result in an error. Use `array.size > 0` to check that an array is not empty.\n"
     ]
    },
    {
     "name": "stdout",
     "output_type": "stream",
     "text": [
      "    value  counts\n",
      "0       0       3\n",
      "1       1       1\n",
      "2       2       1\n",
      "3       3       2\n",
      "4       4       1\n",
      "5       5       1\n",
      "6       6       1\n",
      "7       9       1\n",
      "8      10       1\n",
      "9      11      10\n",
      "10     13       3\n",
      "11     15       1\n",
      "12     16       4\n",
      "13     17       1\n",
      "14     19       8\n",
      "15     21       2\n",
      "16     22      14 7.68523565611301e-06\n"
     ]
    },
    {
     "name": "stderr",
     "output_type": "stream",
     "text": [
      "/opt/anaconda3/lib/python3.7/site-packages/ipykernel_launcher.py:32: DeprecationWarning: The truth value of an empty array is ambiguous. Returning False, but in future this will result in an error. Use `array.size > 0` to check that an array is not empty.\n"
     ]
    },
    {
     "name": "stdout",
     "output_type": "stream",
     "text": [
      "    value  counts\n",
      "0       0       3\n",
      "1       1       1\n",
      "2       2       1\n",
      "3       3       2\n",
      "4       4       1\n",
      "5       5       1\n",
      "6       6       1\n",
      "7       9       1\n",
      "8      10       1\n",
      "9      11      10\n",
      "10     13       3\n",
      "11     15       1\n",
      "12     16       4\n",
      "13     17       1\n",
      "14     19       8\n",
      "15     21       2\n",
      "16     22      15 7.809191069921284e-06\n",
      "    value  counts\n",
      "0       0       3\n",
      "1       1       1\n",
      "2       2       1\n",
      "3       3       2\n",
      "4       4       1\n",
      "5       5       1\n",
      "6       6       1\n",
      "7       9       1\n",
      "8      10       1\n",
      "9      11      10\n",
      "10     13       3\n",
      "11     15       1\n",
      "12     16       4\n",
      "13     17       1\n",
      "14     19       8\n",
      "15     21       2\n",
      "16     22      16 3.904595534960642e-06\n",
      "    value  counts\n",
      "0       0       3\n",
      "1       1       1\n",
      "2       2       1\n",
      "3       3       2\n",
      "4       4       1\n",
      "5       5       1\n",
      "6       6       1\n",
      "7       9       1\n",
      "8      10       1\n",
      "9      11      10\n",
      "10     13       3\n",
      "11     15       1\n",
      "12     16       4\n",
      "13     17       1\n",
      "14     19       8\n",
      "15     21       2\n",
      "16     22      17 1.952297767480321e-06\n"
     ]
    },
    {
     "name": "stderr",
     "output_type": "stream",
     "text": [
      "/opt/anaconda3/lib/python3.7/site-packages/ipykernel_launcher.py:32: DeprecationWarning: The truth value of an empty array is ambiguous. Returning False, but in future this will result in an error. Use `array.size > 0` to check that an array is not empty.\n"
     ]
    },
    {
     "name": "stdout",
     "output_type": "stream",
     "text": [
      "    value  counts\n",
      "0       0       3\n",
      "1       1       1\n",
      "2       2       1\n",
      "3       3       2\n",
      "4       4       1\n",
      "5       5       1\n",
      "6       6       1\n",
      "7       9       1\n",
      "8      10       1\n",
      "9      11      10\n",
      "10     13       3\n",
      "11     15       1\n",
      "12     16       4\n",
      "13     17       1\n",
      "14     19       8\n",
      "15     21       2\n",
      "16     22      18 9.761488837401605e-07\n"
     ]
    },
    {
     "name": "stderr",
     "output_type": "stream",
     "text": [
      "/opt/anaconda3/lib/python3.7/site-packages/ipykernel_launcher.py:32: DeprecationWarning: The truth value of an empty array is ambiguous. Returning False, but in future this will result in an error. Use `array.size > 0` to check that an array is not empty.\n"
     ]
    },
    {
     "name": "stdout",
     "output_type": "stream",
     "text": [
      "    value  counts\n",
      "0       0       3\n",
      "1       1       1\n",
      "2       2       1\n",
      "3       3       2\n",
      "4       4       1\n",
      "5       5       1\n",
      "6       6       1\n",
      "7       9       1\n",
      "8      10       1\n",
      "9      11      10\n",
      "10     13       3\n",
      "11     15       1\n",
      "12     16       4\n",
      "13     17       1\n",
      "14     19       8\n",
      "15     21       2\n",
      "16     22      19 4.880744418700803e-07\n"
     ]
    },
    {
     "name": "stderr",
     "output_type": "stream",
     "text": [
      "/opt/anaconda3/lib/python3.7/site-packages/ipykernel_launcher.py:32: DeprecationWarning: The truth value of an empty array is ambiguous. Returning False, but in future this will result in an error. Use `array.size > 0` to check that an array is not empty.\n"
     ]
    },
    {
     "name": "stdout",
     "output_type": "stream",
     "text": [
      "    value  counts\n",
      "0       0       3\n",
      "1       1       1\n",
      "2       2       1\n",
      "3       3       2\n",
      "4       4       1\n",
      "5       5       1\n",
      "6       6       1\n",
      "7       9       1\n",
      "8      10       1\n",
      "9      11      10\n",
      "10     13       3\n",
      "11     15       1\n",
      "12     16       4\n",
      "13     17       1\n",
      "14     19       8\n",
      "15     21       2\n",
      "16     22      20 2.4403722093504013e-07\n"
     ]
    },
    {
     "name": "stderr",
     "output_type": "stream",
     "text": [
      "/opt/anaconda3/lib/python3.7/site-packages/ipykernel_launcher.py:32: DeprecationWarning: The truth value of an empty array is ambiguous. Returning False, but in future this will result in an error. Use `array.size > 0` to check that an array is not empty.\n"
     ]
    },
    {
     "name": "stdout",
     "output_type": "stream",
     "text": [
      "    value  counts\n",
      "0       0       3\n",
      "1       1       1\n",
      "2       2       1\n",
      "3       3       2\n",
      "4       4       1\n",
      "5       5       1\n",
      "6       6       1\n",
      "7       9       1\n",
      "8      10       1\n",
      "9      11      10\n",
      "10     13       3\n",
      "11     15       1\n",
      "12     16       4\n",
      "13     17       1\n",
      "14     19       8\n",
      "15     21       2\n",
      "16     22      21 1.2201861046752006e-07\n"
     ]
    },
    {
     "name": "stderr",
     "output_type": "stream",
     "text": [
      "/opt/anaconda3/lib/python3.7/site-packages/ipykernel_launcher.py:32: DeprecationWarning: The truth value of an empty array is ambiguous. Returning False, but in future this will result in an error. Use `array.size > 0` to check that an array is not empty.\n"
     ]
    },
    {
     "name": "stdout",
     "output_type": "stream",
     "text": [
      "    value  counts\n",
      "0       0       3\n",
      "1       1       1\n",
      "2       2       1\n",
      "3       3       2\n",
      "4       4       1\n",
      "5       5       1\n",
      "6       6       1\n",
      "7       9       1\n",
      "8      10       1\n",
      "9      11      10\n",
      "10     13       3\n",
      "11     15       1\n",
      "12     16       4\n",
      "13     17       1\n",
      "14     19       8\n",
      "15     21       2\n",
      "16     22      22 6.100930523376003e-08\n"
     ]
    },
    {
     "name": "stderr",
     "output_type": "stream",
     "text": [
      "/opt/anaconda3/lib/python3.7/site-packages/ipykernel_launcher.py:32: DeprecationWarning: The truth value of an empty array is ambiguous. Returning False, but in future this will result in an error. Use `array.size > 0` to check that an array is not empty.\n"
     ]
    },
    {
     "name": "stdout",
     "output_type": "stream",
     "text": [
      "    value  counts\n",
      "0       0       3\n",
      "1       1       1\n",
      "2       2       1\n",
      "3       3       2\n",
      "4       4       1\n",
      "5       5       1\n",
      "6       6       1\n",
      "7       9       1\n",
      "8      10       1\n",
      "9      11      10\n",
      "10     13       3\n",
      "11     15       1\n",
      "12     16       4\n",
      "13     17       1\n",
      "14     19       8\n",
      "15     21       2\n",
      "16     22      23 3.0504652616880016e-08\n"
     ]
    },
    {
     "name": "stderr",
     "output_type": "stream",
     "text": [
      "/opt/anaconda3/lib/python3.7/site-packages/ipykernel_launcher.py:32: DeprecationWarning: The truth value of an empty array is ambiguous. Returning False, but in future this will result in an error. Use `array.size > 0` to check that an array is not empty.\n"
     ]
    },
    {
     "name": "stdout",
     "output_type": "stream",
     "text": [
      "    value  counts\n",
      "0       0       3\n",
      "1       1       1\n",
      "2       2       1\n",
      "3       3       2\n",
      "4       4       1\n",
      "5       5       1\n",
      "6       6       1\n",
      "7       9       1\n",
      "8      10       1\n",
      "9      11      10\n",
      "10     13       3\n",
      "11     15       1\n",
      "12     16       4\n",
      "13     17       1\n",
      "14     19       8\n",
      "15     21       2\n",
      "16     22      24 1.5252326308440008e-08\n"
     ]
    },
    {
     "name": "stderr",
     "output_type": "stream",
     "text": [
      "/opt/anaconda3/lib/python3.7/site-packages/ipykernel_launcher.py:32: DeprecationWarning: The truth value of an empty array is ambiguous. Returning False, but in future this will result in an error. Use `array.size > 0` to check that an array is not empty.\n"
     ]
    },
    {
     "name": "stdout",
     "output_type": "stream",
     "text": [
      "    value  counts\n",
      "0       0       3\n",
      "1       1       1\n",
      "2       2       1\n",
      "3       3       2\n",
      "4       4       1\n",
      "5       5       1\n",
      "6       6       1\n",
      "7       9       1\n",
      "8      10       1\n",
      "9      11      10\n",
      "10     13       3\n",
      "11     15       1\n",
      "12     16       4\n",
      "13     17       1\n",
      "14     19       8\n",
      "15     21       2\n",
      "16     22      25 7.626163154220004e-09\n"
     ]
    },
    {
     "name": "stderr",
     "output_type": "stream",
     "text": [
      "/opt/anaconda3/lib/python3.7/site-packages/ipykernel_launcher.py:32: DeprecationWarning: The truth value of an empty array is ambiguous. Returning False, but in future this will result in an error. Use `array.size > 0` to check that an array is not empty.\n"
     ]
    },
    {
     "name": "stdout",
     "output_type": "stream",
     "text": [
      "    value  counts\n",
      "0       0       3\n",
      "1       1       1\n",
      "2       2       1\n",
      "3       3       2\n",
      "4       4       1\n",
      "5       5       1\n",
      "6       6       1\n",
      "7       9       1\n",
      "8      10       1\n",
      "9      11      10\n",
      "10     13       3\n",
      "11     15       1\n",
      "12     16       4\n",
      "13     17       1\n",
      "14     19       8\n",
      "15     21       2\n",
      "16     22      26 3.813081577110002e-09\n"
     ]
    },
    {
     "name": "stderr",
     "output_type": "stream",
     "text": [
      "/opt/anaconda3/lib/python3.7/site-packages/ipykernel_launcher.py:32: DeprecationWarning: The truth value of an empty array is ambiguous. Returning False, but in future this will result in an error. Use `array.size > 0` to check that an array is not empty.\n"
     ]
    },
    {
     "name": "stdout",
     "output_type": "stream",
     "text": [
      "    value  counts\n",
      "0       0       3\n",
      "1       1       1\n",
      "2       2       1\n",
      "3       3       2\n",
      "4       4       1\n",
      "5       5       1\n",
      "6       6       1\n",
      "7       9       1\n",
      "8      10       1\n",
      "9      11      10\n",
      "10     13       3\n",
      "11     15       1\n",
      "12     16       4\n",
      "13     17       1\n",
      "14     19       8\n",
      "15     21       2\n",
      "16     22      27 1.906540788555001e-09\n"
     ]
    },
    {
     "name": "stderr",
     "output_type": "stream",
     "text": [
      "/opt/anaconda3/lib/python3.7/site-packages/ipykernel_launcher.py:32: DeprecationWarning: The truth value of an empty array is ambiguous. Returning False, but in future this will result in an error. Use `array.size > 0` to check that an array is not empty.\n"
     ]
    },
    {
     "name": "stdout",
     "output_type": "stream",
     "text": [
      "    value  counts\n",
      "0       0       3\n",
      "1       1       1\n",
      "2       2       1\n",
      "3       3       2\n",
      "4       4       1\n",
      "5       5       1\n",
      "6       6       1\n",
      "7       9       1\n",
      "8      10       1\n",
      "9      11      10\n",
      "10     13       3\n",
      "11     15       1\n",
      "12     16       4\n",
      "13     17       1\n",
      "14     19       8\n",
      "15     21       2\n",
      "16     22      28 9.532703942775005e-10\n"
     ]
    },
    {
     "name": "stderr",
     "output_type": "stream",
     "text": [
      "/opt/anaconda3/lib/python3.7/site-packages/ipykernel_launcher.py:32: DeprecationWarning: The truth value of an empty array is ambiguous. Returning False, but in future this will result in an error. Use `array.size > 0` to check that an array is not empty.\n"
     ]
    },
    {
     "name": "stdout",
     "output_type": "stream",
     "text": [
      "    value  counts\n",
      "0       0       3\n",
      "1       1       1\n",
      "2       2       1\n",
      "3       3       2\n",
      "4       4       1\n",
      "5       5       1\n",
      "6       6       1\n",
      "7       9       1\n",
      "8      10       1\n",
      "9      11      10\n",
      "10     13       3\n",
      "11     15       1\n",
      "12     16       4\n",
      "13     17       1\n",
      "14     19       8\n",
      "15     21       2\n",
      "16     22      29 4.766351971387502e-10\n"
     ]
    },
    {
     "name": "stderr",
     "output_type": "stream",
     "text": [
      "/opt/anaconda3/lib/python3.7/site-packages/ipykernel_launcher.py:32: DeprecationWarning: The truth value of an empty array is ambiguous. Returning False, but in future this will result in an error. Use `array.size > 0` to check that an array is not empty.\n"
     ]
    },
    {
     "name": "stdout",
     "output_type": "stream",
     "text": [
      "    value  counts\n",
      "0       0       3\n",
      "1       1       1\n",
      "2       2       1\n",
      "3       3       2\n",
      "4       4       1\n",
      "5       5       1\n",
      "6       6       1\n",
      "7       9       1\n",
      "8      10       1\n",
      "9      11      10\n",
      "10     13       3\n",
      "11     15       1\n",
      "12     16       4\n",
      "13     17       1\n",
      "14     19       8\n",
      "15     21       2\n",
      "16     22      29\n",
      "17     32       1 2.383175985693751e-10\n"
     ]
    },
    {
     "name": "stderr",
     "output_type": "stream",
     "text": [
      "/opt/anaconda3/lib/python3.7/site-packages/ipykernel_launcher.py:32: DeprecationWarning: The truth value of an empty array is ambiguous. Returning False, but in future this will result in an error. Use `array.size > 0` to check that an array is not empty.\n"
     ]
    },
    {
     "name": "stdout",
     "output_type": "stream",
     "text": [
      "    value  counts\n",
      "0       0       3\n",
      "1       1       1\n",
      "2       2       1\n",
      "3       3       2\n",
      "4       4       1\n",
      "5       5       1\n",
      "6       6       1\n",
      "7       9       1\n",
      "8      10       1\n",
      "9      11      10\n",
      "10     13       3\n",
      "11     15       1\n",
      "12     16       4\n",
      "13     17       1\n",
      "14     19       8\n",
      "15     21       2\n",
      "16     22      29\n",
      "17     32       2 3.574763978540627e-10\n"
     ]
    },
    {
     "name": "stderr",
     "output_type": "stream",
     "text": [
      "/opt/anaconda3/lib/python3.7/site-packages/ipykernel_launcher.py:32: DeprecationWarning: The truth value of an empty array is ambiguous. Returning False, but in future this will result in an error. Use `array.size > 0` to check that an array is not empty.\n"
     ]
    },
    {
     "name": "stdout",
     "output_type": "stream",
     "text": [
      "    value  counts\n",
      "0       0       3\n",
      "1       1       1\n",
      "2       2       1\n",
      "3       3       2\n",
      "4       4       1\n",
      "5       5       1\n",
      "6       6       1\n",
      "7       9       1\n",
      "8      10       1\n",
      "9      11      10\n",
      "10     13       3\n",
      "11     15       1\n",
      "12     16       4\n",
      "13     17       1\n",
      "14     19       8\n",
      "15     21       2\n",
      "16     22      29\n",
      "17     32       3 4.1705579749640647e-10\n"
     ]
    },
    {
     "name": "stderr",
     "output_type": "stream",
     "text": [
      "/opt/anaconda3/lib/python3.7/site-packages/ipykernel_launcher.py:32: DeprecationWarning: The truth value of an empty array is ambiguous. Returning False, but in future this will result in an error. Use `array.size > 0` to check that an array is not empty.\n"
     ]
    },
    {
     "name": "stdout",
     "output_type": "stream",
     "text": [
      "    value  counts\n",
      "0       0       3\n",
      "1       1       1\n",
      "2       2       1\n",
      "3       3       2\n",
      "4       4       1\n",
      "5       5       1\n",
      "6       6       1\n",
      "7       9       1\n",
      "8      10       1\n",
      "9      11      10\n",
      "10     13       3\n",
      "11     15       1\n",
      "12     16       4\n",
      "13     17       1\n",
      "14     19       8\n",
      "15     21       2\n",
      "16     22      29\n",
      "17     32       4 4.4684549731757836e-10\n"
     ]
    },
    {
     "name": "stderr",
     "output_type": "stream",
     "text": [
      "/opt/anaconda3/lib/python3.7/site-packages/ipykernel_launcher.py:32: DeprecationWarning: The truth value of an empty array is ambiguous. Returning False, but in future this will result in an error. Use `array.size > 0` to check that an array is not empty.\n"
     ]
    },
    {
     "name": "stdout",
     "output_type": "stream",
     "text": [
      "    value  counts\n",
      "0       0       3\n",
      "1       1       1\n",
      "2       2       1\n",
      "3       3       2\n",
      "4       4       1\n",
      "5       5       1\n",
      "6       6       1\n",
      "7       9       1\n",
      "8      10       1\n",
      "9      11      10\n",
      "10     13       3\n",
      "11     15       1\n",
      "12     16       4\n",
      "13     17       1\n",
      "14     19       8\n",
      "15     21       2\n",
      "16     22      29\n",
      "17     32       5 4.617403472281643e-10\n"
     ]
    },
    {
     "name": "stderr",
     "output_type": "stream",
     "text": [
      "/opt/anaconda3/lib/python3.7/site-packages/ipykernel_launcher.py:32: DeprecationWarning: The truth value of an empty array is ambiguous. Returning False, but in future this will result in an error. Use `array.size > 0` to check that an array is not empty.\n"
     ]
    },
    {
     "name": "stdout",
     "output_type": "stream",
     "text": [
      "    value  counts\n",
      "0       0       3\n",
      "1       1       1\n",
      "2       2       1\n",
      "3       3       2\n",
      "4       4       1\n",
      "5       5       1\n",
      "6       6       1\n",
      "7       9       1\n",
      "8      10       1\n",
      "9      11      10\n",
      "10     13       3\n",
      "11     15       1\n",
      "12     16       4\n",
      "13     17       1\n",
      "14     19       8\n",
      "15     21       2\n",
      "16     22      30\n",
      "17     32       5 4.691877721834573e-10\n"
     ]
    },
    {
     "name": "stderr",
     "output_type": "stream",
     "text": [
      "/opt/anaconda3/lib/python3.7/site-packages/ipykernel_launcher.py:32: DeprecationWarning: The truth value of an empty array is ambiguous. Returning False, but in future this will result in an error. Use `array.size > 0` to check that an array is not empty.\n"
     ]
    },
    {
     "name": "stdout",
     "output_type": "stream",
     "text": [
      "    value  counts\n",
      "0       0       3\n",
      "1       1       1\n",
      "2       2       1\n",
      "3       3       2\n",
      "4       4       1\n",
      "5       5       1\n",
      "6       6       1\n",
      "7       9       1\n",
      "8      10       1\n",
      "9      11      10\n",
      "10     13       3\n",
      "11     15       1\n",
      "12     16       4\n",
      "13     17       1\n",
      "14     19       8\n",
      "15     21       2\n",
      "16     22      30\n",
      "17     32       6 2.3459388609172864e-10\n"
     ]
    },
    {
     "name": "stderr",
     "output_type": "stream",
     "text": [
      "/opt/anaconda3/lib/python3.7/site-packages/ipykernel_launcher.py:32: DeprecationWarning: The truth value of an empty array is ambiguous. Returning False, but in future this will result in an error. Use `array.size > 0` to check that an array is not empty.\n"
     ]
    },
    {
     "name": "stdout",
     "output_type": "stream",
     "text": [
      "    value  counts\n",
      "0       0       3\n",
      "1       1       1\n",
      "2       2       1\n",
      "3       3       2\n",
      "4       4       1\n",
      "5       5       1\n",
      "6       6       1\n",
      "7       9       1\n",
      "8      10       1\n",
      "9      11      10\n",
      "10     13       3\n",
      "11     15       1\n",
      "12     16       4\n",
      "13     17       1\n",
      "14     19       8\n",
      "15     21       2\n",
      "16     22      30\n",
      "17     32       7 3.5189082913759296e-10\n"
     ]
    },
    {
     "name": "stderr",
     "output_type": "stream",
     "text": [
      "/opt/anaconda3/lib/python3.7/site-packages/ipykernel_launcher.py:32: DeprecationWarning: The truth value of an empty array is ambiguous. Returning False, but in future this will result in an error. Use `array.size > 0` to check that an array is not empty.\n"
     ]
    },
    {
     "name": "stdout",
     "output_type": "stream",
     "text": [
      "    value  counts\n",
      "0       0       3\n",
      "1       1       1\n",
      "2       2       1\n",
      "3       3       2\n",
      "4       4       1\n",
      "5       5       1\n",
      "6       6       1\n",
      "7       9       1\n",
      "8      10       1\n",
      "9      11      10\n",
      "10     13       3\n",
      "11     15       1\n",
      "12     16       4\n",
      "13     17       1\n",
      "14     19       8\n",
      "15     21       2\n",
      "16     22      30\n",
      "17     32       8 4.105393006605251e-10\n"
     ]
    },
    {
     "name": "stderr",
     "output_type": "stream",
     "text": [
      "/opt/anaconda3/lib/python3.7/site-packages/ipykernel_launcher.py:32: DeprecationWarning: The truth value of an empty array is ambiguous. Returning False, but in future this will result in an error. Use `array.size > 0` to check that an array is not empty.\n"
     ]
    },
    {
     "name": "stdout",
     "output_type": "stream",
     "text": [
      "    value  counts\n",
      "0       0       3\n",
      "1       1       1\n",
      "2       2       1\n",
      "3       3       2\n",
      "4       4       1\n",
      "5       5       1\n",
      "6       6       1\n",
      "7       9       1\n",
      "8      10       1\n",
      "9      11      10\n",
      "10     13       3\n",
      "11     15       1\n",
      "12     16       4\n",
      "13     17       1\n",
      "14     19       8\n",
      "15     21       2\n",
      "16     22      30\n",
      "17     32       9 4.398635364219912e-10\n"
     ]
    },
    {
     "name": "stderr",
     "output_type": "stream",
     "text": [
      "/opt/anaconda3/lib/python3.7/site-packages/ipykernel_launcher.py:32: DeprecationWarning: The truth value of an empty array is ambiguous. Returning False, but in future this will result in an error. Use `array.size > 0` to check that an array is not empty.\n"
     ]
    },
    {
     "name": "stdout",
     "output_type": "stream",
     "text": [
      "    value  counts\n",
      "0       0       3\n",
      "1       1       1\n",
      "2       2       1\n",
      "3       3       2\n",
      "4       4       1\n",
      "5       5       1\n",
      "6       6       1\n",
      "7       9       1\n",
      "8      10       1\n",
      "9      11      10\n",
      "10     13       3\n",
      "11     15       1\n",
      "12     16       4\n",
      "13     17       1\n",
      "14     19       8\n",
      "15     21       2\n",
      "16     22      30\n",
      "17     32      10 4.5452565430272424e-10\n"
     ]
    },
    {
     "name": "stderr",
     "output_type": "stream",
     "text": [
      "/opt/anaconda3/lib/python3.7/site-packages/ipykernel_launcher.py:32: DeprecationWarning: The truth value of an empty array is ambiguous. Returning False, but in future this will result in an error. Use `array.size > 0` to check that an array is not empty.\n"
     ]
    },
    {
     "name": "stdout",
     "output_type": "stream",
     "text": [
      "    value  counts\n",
      "0       0       3\n",
      "1       1       1\n",
      "2       2       1\n",
      "3       3       2\n",
      "4       4       1\n",
      "5       5       1\n",
      "6       6       1\n",
      "7       9       1\n",
      "8      10       1\n",
      "9      11      10\n",
      "10     13       3\n",
      "11     15       1\n",
      "12     16       4\n",
      "13     17       1\n",
      "14     19       8\n",
      "15     21       2\n",
      "16     22      30\n",
      "17     32      11 4.6185671324309076e-10\n"
     ]
    },
    {
     "name": "stderr",
     "output_type": "stream",
     "text": [
      "/opt/anaconda3/lib/python3.7/site-packages/ipykernel_launcher.py:32: DeprecationWarning: The truth value of an empty array is ambiguous. Returning False, but in future this will result in an error. Use `array.size > 0` to check that an array is not empty.\n"
     ]
    },
    {
     "name": "stdout",
     "output_type": "stream",
     "text": [
      "    value  counts\n",
      "0       0       3\n",
      "1       1       1\n",
      "2       2       1\n",
      "3       3       2\n",
      "4       4       1\n",
      "5       5       1\n",
      "6       6       1\n",
      "7       9       1\n",
      "8      10       1\n",
      "9      11      10\n",
      "10     13       3\n",
      "11     15       1\n",
      "12     16       4\n",
      "13     17       1\n",
      "14     19       8\n",
      "15     21       2\n",
      "16     22      30\n",
      "17     32      12 2.3092835662154538e-10\n"
     ]
    },
    {
     "name": "stderr",
     "output_type": "stream",
     "text": [
      "/opt/anaconda3/lib/python3.7/site-packages/ipykernel_launcher.py:32: DeprecationWarning: The truth value of an empty array is ambiguous. Returning False, but in future this will result in an error. Use `array.size > 0` to check that an array is not empty.\n"
     ]
    },
    {
     "name": "stdout",
     "output_type": "stream",
     "text": [
      "    value  counts\n",
      "0       0       3\n",
      "1       1       1\n",
      "2       2       1\n",
      "3       3       2\n",
      "4       4       1\n",
      "5       5       1\n",
      "6       6       1\n",
      "7       9       1\n",
      "8      10       1\n",
      "9      11      10\n",
      "10     13       3\n",
      "11     15       1\n",
      "12     16       4\n",
      "13     17       1\n",
      "14     19       8\n",
      "15     21       2\n",
      "16     22      30\n",
      "17     32      13 3.4639253493231807e-10\n"
     ]
    },
    {
     "name": "stderr",
     "output_type": "stream",
     "text": [
      "/opt/anaconda3/lib/python3.7/site-packages/ipykernel_launcher.py:32: DeprecationWarning: The truth value of an empty array is ambiguous. Returning False, but in future this will result in an error. Use `array.size > 0` to check that an array is not empty.\n"
     ]
    },
    {
     "name": "stdout",
     "output_type": "stream",
     "text": [
      "    value  counts\n",
      "0       0       3\n",
      "1       1       1\n",
      "2       2       1\n",
      "3       3       2\n",
      "4       4       1\n",
      "5       5       1\n",
      "6       6       1\n",
      "7       9       1\n",
      "8      10       1\n",
      "9      11      10\n",
      "10     13       3\n",
      "11     15       1\n",
      "12     16       4\n",
      "13     17       1\n",
      "14     19       8\n",
      "15     21       2\n",
      "16     22      30\n",
      "17     32      14 4.0412462408770444e-10\n"
     ]
    },
    {
     "name": "stderr",
     "output_type": "stream",
     "text": [
      "/opt/anaconda3/lib/python3.7/site-packages/ipykernel_launcher.py:32: DeprecationWarning: The truth value of an empty array is ambiguous. Returning False, but in future this will result in an error. Use `array.size > 0` to check that an array is not empty.\n"
     ]
    },
    {
     "name": "stdout",
     "output_type": "stream",
     "text": [
      "    value  counts\n",
      "0       0       3\n",
      "1       1       1\n",
      "2       2       1\n",
      "3       3       2\n",
      "4       4       1\n",
      "5       5       1\n",
      "6       6       1\n",
      "7       9       1\n",
      "8      10       1\n",
      "9      11      10\n",
      "10     13       3\n",
      "11     15       1\n",
      "12     16       4\n",
      "13     17       1\n",
      "14     19       8\n",
      "15     21       2\n",
      "16     22      30\n",
      "17     32      15 4.329906686653976e-10\n"
     ]
    },
    {
     "name": "stderr",
     "output_type": "stream",
     "text": [
      "/opt/anaconda3/lib/python3.7/site-packages/ipykernel_launcher.py:32: DeprecationWarning: The truth value of an empty array is ambiguous. Returning False, but in future this will result in an error. Use `array.size > 0` to check that an array is not empty.\n"
     ]
    },
    {
     "name": "stdout",
     "output_type": "stream",
     "text": [
      "    value  counts\n",
      "0       0       3\n",
      "1       1       1\n",
      "2       2       1\n",
      "3       3       2\n",
      "4       4       1\n",
      "5       5       1\n",
      "6       6       1\n",
      "7       9       1\n",
      "8      10       1\n",
      "9      11      10\n",
      "10     13       3\n",
      "11     15       1\n",
      "12     16       4\n",
      "13     17       1\n",
      "14     19       8\n",
      "15     21       2\n",
      "16     22      30\n",
      "17     32      16 4.474236909542442e-10\n"
     ]
    },
    {
     "name": "stderr",
     "output_type": "stream",
     "text": [
      "/opt/anaconda3/lib/python3.7/site-packages/ipykernel_launcher.py:32: DeprecationWarning: The truth value of an empty array is ambiguous. Returning False, but in future this will result in an error. Use `array.size > 0` to check that an array is not empty.\n"
     ]
    },
    {
     "name": "stdout",
     "output_type": "stream",
     "text": [
      "    value  counts\n",
      "0       0       3\n",
      "1       1       1\n",
      "2       2       1\n",
      "3       3       2\n",
      "4       4       1\n",
      "5       5       1\n",
      "6       6       1\n",
      "7       9       1\n",
      "8      10       1\n",
      "9      11      10\n",
      "10     13       3\n",
      "11     15       1\n",
      "12     16       4\n",
      "13     17       1\n",
      "14     19       8\n",
      "15     21       2\n",
      "16     22      30\n",
      "17     32      17 4.546402020986675e-10\n"
     ]
    },
    {
     "name": "stderr",
     "output_type": "stream",
     "text": [
      "/opt/anaconda3/lib/python3.7/site-packages/ipykernel_launcher.py:32: DeprecationWarning: The truth value of an empty array is ambiguous. Returning False, but in future this will result in an error. Use `array.size > 0` to check that an array is not empty.\n"
     ]
    },
    {
     "name": "stdout",
     "output_type": "stream",
     "text": [
      "    value  counts\n",
      "0       0       3\n",
      "1       1       1\n",
      "2       2       1\n",
      "3       3       2\n",
      "4       4       1\n",
      "5       5       1\n",
      "6       6       1\n",
      "7       9       1\n",
      "8      10       1\n",
      "9      11      10\n",
      "10     13       3\n",
      "11     15       1\n",
      "12     16       4\n",
      "13     17       1\n",
      "14     19       8\n",
      "15     21       2\n",
      "16     22      30\n",
      "17     32      18 2.2732010104933375e-10\n"
     ]
    },
    {
     "name": "stderr",
     "output_type": "stream",
     "text": [
      "/opt/anaconda3/lib/python3.7/site-packages/ipykernel_launcher.py:32: DeprecationWarning: The truth value of an empty array is ambiguous. Returning False, but in future this will result in an error. Use `array.size > 0` to check that an array is not empty.\n"
     ]
    },
    {
     "name": "stdout",
     "output_type": "stream",
     "text": [
      "    value  counts\n",
      "0       0       3\n",
      "1       1       1\n",
      "2       2       1\n",
      "3       3       2\n",
      "4       4       1\n",
      "5       5       1\n",
      "6       6       1\n",
      "7       9       1\n",
      "8      10       1\n",
      "9      11      10\n",
      "10     13       3\n",
      "11     15       1\n",
      "12     16       4\n",
      "13     17       1\n",
      "14     19       8\n",
      "15     21       2\n",
      "16     22      30\n",
      "17     32      19 3.409801515740006e-10\n"
     ]
    },
    {
     "name": "stderr",
     "output_type": "stream",
     "text": [
      "/opt/anaconda3/lib/python3.7/site-packages/ipykernel_launcher.py:32: DeprecationWarning: The truth value of an empty array is ambiguous. Returning False, but in future this will result in an error. Use `array.size > 0` to check that an array is not empty.\n"
     ]
    },
    {
     "name": "stdout",
     "output_type": "stream",
     "text": [
      "    value  counts\n",
      "0       0       3\n",
      "1       1       1\n",
      "2       2       1\n",
      "3       3       2\n",
      "4       4       1\n",
      "5       5       1\n",
      "6       6       1\n",
      "7       9       1\n",
      "8      10       1\n",
      "9      11      10\n",
      "10     13       3\n",
      "11     15       1\n",
      "12     16       4\n",
      "13     17       1\n",
      "14     19       8\n",
      "15     21       2\n",
      "16     22      30\n",
      "17     32      20 3.978101768363341e-10\n"
     ]
    },
    {
     "name": "stderr",
     "output_type": "stream",
     "text": [
      "/opt/anaconda3/lib/python3.7/site-packages/ipykernel_launcher.py:32: DeprecationWarning: The truth value of an empty array is ambiguous. Returning False, but in future this will result in an error. Use `array.size > 0` to check that an array is not empty.\n"
     ]
    },
    {
     "name": "stdout",
     "output_type": "stream",
     "text": [
      "    value  counts\n",
      "0       0       3\n",
      "1       1       1\n",
      "2       2       1\n",
      "3       3       2\n",
      "4       4       1\n",
      "5       5       1\n",
      "6       6       1\n",
      "7       9       1\n",
      "8      10       1\n",
      "9      11      10\n",
      "10     13       3\n",
      "11     15       1\n",
      "12     16       4\n",
      "13     17       1\n",
      "14     19       8\n",
      "15     21       2\n",
      "16     22      30\n",
      "17     32      21 4.262251894675008e-10\n"
     ]
    },
    {
     "name": "stderr",
     "output_type": "stream",
     "text": [
      "/opt/anaconda3/lib/python3.7/site-packages/ipykernel_launcher.py:32: DeprecationWarning: The truth value of an empty array is ambiguous. Returning False, but in future this will result in an error. Use `array.size > 0` to check that an array is not empty.\n"
     ]
    },
    {
     "name": "stdout",
     "output_type": "stream",
     "text": [
      "    value  counts\n",
      "0       0       3\n",
      "1       1       1\n",
      "2       2       1\n",
      "3       3       2\n",
      "4       4       1\n",
      "5       5       1\n",
      "6       6       1\n",
      "7       9       1\n",
      "8      10       1\n",
      "9      11      10\n",
      "10     13       3\n",
      "11     15       1\n",
      "12     16       4\n",
      "13     17       1\n",
      "14     19       8\n",
      "15     21       2\n",
      "16     22      30\n",
      "17     32      22 4.4043269578308414e-10\n"
     ]
    },
    {
     "name": "stderr",
     "output_type": "stream",
     "text": [
      "/opt/anaconda3/lib/python3.7/site-packages/ipykernel_launcher.py:32: DeprecationWarning: The truth value of an empty array is ambiguous. Returning False, but in future this will result in an error. Use `array.size > 0` to check that an array is not empty.\n"
     ]
    },
    {
     "name": "stdout",
     "output_type": "stream",
     "text": [
      "    value  counts\n",
      "0       0       3\n",
      "1       1       1\n",
      "2       2       1\n",
      "3       3       2\n",
      "4       4       1\n",
      "5       5       1\n",
      "6       6       1\n",
      "7       9       1\n",
      "8      10       1\n",
      "9      11      10\n",
      "10     13       3\n",
      "11     15       1\n",
      "12     16       4\n",
      "13     17       1\n",
      "14     19       8\n",
      "15     21       2\n",
      "16     22      30\n",
      "17     32      23 4.475364489408758e-10\n"
     ]
    },
    {
     "name": "stderr",
     "output_type": "stream",
     "text": [
      "/opt/anaconda3/lib/python3.7/site-packages/ipykernel_launcher.py:32: DeprecationWarning: The truth value of an empty array is ambiguous. Returning False, but in future this will result in an error. Use `array.size > 0` to check that an array is not empty.\n"
     ]
    },
    {
     "name": "stdout",
     "output_type": "stream",
     "text": [
      "    value  counts\n",
      "0       0       3\n",
      "1       1       1\n",
      "2       2       1\n",
      "3       3       2\n",
      "4       4       1\n",
      "5       5       1\n",
      "6       6       1\n",
      "7       9       1\n",
      "8      10       1\n",
      "9      11      10\n",
      "10     13       3\n",
      "11     15       1\n",
      "12     16       4\n",
      "13     17       1\n",
      "14     19       8\n",
      "15     21       2\n",
      "16     22      30\n",
      "17     32      24 2.237682244704379e-10\n"
     ]
    },
    {
     "name": "stderr",
     "output_type": "stream",
     "text": [
      "/opt/anaconda3/lib/python3.7/site-packages/ipykernel_launcher.py:32: DeprecationWarning: The truth value of an empty array is ambiguous. Returning False, but in future this will result in an error. Use `array.size > 0` to check that an array is not empty.\n"
     ]
    },
    {
     "name": "stdout",
     "output_type": "stream",
     "text": [
      "    value  counts\n",
      "0       0       3\n",
      "1       1       1\n",
      "2       2       1\n",
      "3       3       2\n",
      "4       4       1\n",
      "5       5       1\n",
      "6       6       1\n",
      "7       9       1\n",
      "8      10       1\n",
      "9      11      10\n",
      "10     13       3\n",
      "11     15       1\n",
      "12     16       4\n",
      "13     17       1\n",
      "14     19       8\n",
      "15     21       2\n",
      "16     22      30\n",
      "17     32      25 3.3565233670565685e-10\n"
     ]
    },
    {
     "name": "stderr",
     "output_type": "stream",
     "text": [
      "/opt/anaconda3/lib/python3.7/site-packages/ipykernel_launcher.py:32: DeprecationWarning: The truth value of an empty array is ambiguous. Returning False, but in future this will result in an error. Use `array.size > 0` to check that an array is not empty.\n"
     ]
    },
    {
     "name": "stdout",
     "output_type": "stream",
     "text": [
      "    value  counts\n",
      "0       0       3\n",
      "1       1       1\n",
      "2       2       1\n",
      "3       3       2\n",
      "4       4       1\n",
      "5       5       1\n",
      "6       6       1\n",
      "7       9       1\n",
      "8      10       1\n",
      "9      11      10\n",
      "10     13       3\n",
      "11     15       1\n",
      "12     16       4\n",
      "13     17       1\n",
      "14     19       8\n",
      "15     21       2\n",
      "16     22      30\n",
      "17     32      26 3.9159439282326633e-10\n"
     ]
    },
    {
     "name": "stderr",
     "output_type": "stream",
     "text": [
      "/opt/anaconda3/lib/python3.7/site-packages/ipykernel_launcher.py:32: DeprecationWarning: The truth value of an empty array is ambiguous. Returning False, but in future this will result in an error. Use `array.size > 0` to check that an array is not empty.\n"
     ]
    },
    {
     "name": "stdout",
     "output_type": "stream",
     "text": [
      "    value  counts\n",
      "0       0       3\n",
      "1       1       1\n",
      "2       2       1\n",
      "3       3       2\n",
      "4       4       1\n",
      "5       5       1\n",
      "6       6       1\n",
      "7       9       1\n",
      "8      10       1\n",
      "9      11      10\n",
      "10     13       3\n",
      "11     15       1\n",
      "12     16       4\n",
      "13     17       1\n",
      "14     19       8\n",
      "15     21       2\n",
      "16     22      30\n",
      "17     32      27 4.195654208820711e-10\n"
     ]
    },
    {
     "name": "stderr",
     "output_type": "stream",
     "text": [
      "/opt/anaconda3/lib/python3.7/site-packages/ipykernel_launcher.py:32: DeprecationWarning: The truth value of an empty array is ambiguous. Returning False, but in future this will result in an error. Use `array.size > 0` to check that an array is not empty.\n"
     ]
    },
    {
     "name": "stdout",
     "output_type": "stream",
     "text": [
      "    value  counts\n",
      "0       0       3\n",
      "1       1       1\n",
      "2       2       1\n",
      "3       3       2\n",
      "4       4       1\n",
      "5       5       1\n",
      "6       6       1\n",
      "7       9       1\n",
      "8      10       1\n",
      "9      11      10\n",
      "10     13       3\n",
      "11     15       1\n",
      "12     16       4\n",
      "13     17       1\n",
      "14     19       8\n",
      "15     21       2\n",
      "16     22      30\n",
      "17     32      28 4.335509349114734e-10\n"
     ]
    },
    {
     "name": "stderr",
     "output_type": "stream",
     "text": [
      "/opt/anaconda3/lib/python3.7/site-packages/ipykernel_launcher.py:32: DeprecationWarning: The truth value of an empty array is ambiguous. Returning False, but in future this will result in an error. Use `array.size > 0` to check that an array is not empty.\n"
     ]
    },
    {
     "name": "stdout",
     "output_type": "stream",
     "text": [
      "    value  counts\n",
      "0       0       3\n",
      "1       1       1\n",
      "2       2       1\n",
      "3       3       2\n",
      "4       4       1\n",
      "5       5       1\n",
      "6       6       1\n",
      "7       9       1\n",
      "8      10       1\n",
      "9      11      10\n",
      "10     13       3\n",
      "11     15       1\n",
      "12     16       4\n",
      "13     17       1\n",
      "14     19       8\n",
      "15     21       2\n",
      "16     22      30\n",
      "17     32      29 4.4054369192617464e-10\n"
     ]
    },
    {
     "name": "stderr",
     "output_type": "stream",
     "text": [
      "/opt/anaconda3/lib/python3.7/site-packages/ipykernel_launcher.py:32: DeprecationWarning: The truth value of an empty array is ambiguous. Returning False, but in future this will result in an error. Use `array.size > 0` to check that an array is not empty.\n"
     ]
    },
    {
     "name": "stdout",
     "output_type": "stream",
     "text": [
      "    value  counts\n",
      "0       0       3\n",
      "1       1       1\n",
      "2       2       1\n",
      "3       3       2\n",
      "4       4       1\n",
      "5       5       1\n",
      "6       6       1\n",
      "7       9       1\n",
      "8      10       1\n",
      "9      11      10\n",
      "10     13       3\n",
      "11     15       1\n",
      "12     16       4\n",
      "13     17       1\n",
      "14     19       8\n",
      "15     21       2\n",
      "16     22      30\n",
      "17     32      30 2.2027184596308732e-10\n"
     ]
    },
    {
     "name": "stderr",
     "output_type": "stream",
     "text": [
      "/opt/anaconda3/lib/python3.7/site-packages/ipykernel_launcher.py:32: DeprecationWarning: The truth value of an empty array is ambiguous. Returning False, but in future this will result in an error. Use `array.size > 0` to check that an array is not empty.\n"
     ]
    },
    {
     "name": "stdout",
     "output_type": "stream",
     "text": [
      "    value  counts\n",
      "0       0       3\n",
      "1       1       1\n",
      "2       2       1\n",
      "3       3       2\n",
      "4       4       1\n",
      "5       5       1\n",
      "6       6       1\n",
      "7       9       1\n",
      "8      10       1\n",
      "9      11      10\n",
      "10     13       3\n",
      "11     15       1\n",
      "12     16       4\n",
      "13     17       1\n",
      "14     19       8\n",
      "15     21       2\n",
      "16     22      30\n",
      "17     32      31 3.3040776894463096e-10\n"
     ]
    },
    {
     "name": "stderr",
     "output_type": "stream",
     "text": [
      "/opt/anaconda3/lib/python3.7/site-packages/ipykernel_launcher.py:32: DeprecationWarning: The truth value of an empty array is ambiguous. Returning False, but in future this will result in an error. Use `array.size > 0` to check that an array is not empty.\n"
     ]
    },
    {
     "name": "stdout",
     "output_type": "stream",
     "text": [
      "    value  counts\n",
      "0       0       3\n",
      "1       1       1\n",
      "2       2       1\n",
      "3       3       2\n",
      "4       4       1\n",
      "5       5       1\n",
      "6       6       1\n",
      "7       9       1\n",
      "8      10       1\n",
      "9      11      10\n",
      "10     13       3\n",
      "11     15       1\n",
      "12     16       4\n",
      "13     17       1\n",
      "14     19       8\n",
      "15     21       2\n",
      "16     22      30\n",
      "17     32      32 3.854757304354028e-10\n"
     ]
    },
    {
     "name": "stderr",
     "output_type": "stream",
     "text": [
      "/opt/anaconda3/lib/python3.7/site-packages/ipykernel_launcher.py:32: DeprecationWarning: The truth value of an empty array is ambiguous. Returning False, but in future this will result in an error. Use `array.size > 0` to check that an array is not empty.\n"
     ]
    },
    {
     "name": "stdout",
     "output_type": "stream",
     "text": [
      "    value  counts\n",
      "0       0       3\n",
      "1       1       1\n",
      "2       2       1\n",
      "3       3       2\n",
      "4       4       1\n",
      "5       5       1\n",
      "6       6       1\n",
      "7       9       1\n",
      "8      10       1\n",
      "9      11      10\n",
      "10     13       3\n",
      "11     15       1\n",
      "12     16       4\n",
      "13     17       1\n",
      "14     19       8\n",
      "15     21       2\n",
      "16     22      30\n",
      "17     32      33 4.130097111807887e-10\n"
     ]
    },
    {
     "name": "stderr",
     "output_type": "stream",
     "text": [
      "/opt/anaconda3/lib/python3.7/site-packages/ipykernel_launcher.py:32: DeprecationWarning: The truth value of an empty array is ambiguous. Returning False, but in future this will result in an error. Use `array.size > 0` to check that an array is not empty.\n"
     ]
    },
    {
     "name": "stdout",
     "output_type": "stream",
     "text": [
      "    value  counts\n",
      "0       0       3\n",
      "1       1       1\n",
      "2       2       1\n",
      "3       3       2\n",
      "4       4       1\n",
      "5       5       1\n",
      "6       6       1\n",
      "7       9       1\n",
      "8      10       1\n",
      "9      11      10\n",
      "10     13       3\n",
      "11     15       1\n",
      "12     16       4\n",
      "13     17       1\n",
      "14     19       8\n",
      "15     21       2\n",
      "16     22      30\n",
      "17     32      34 4.2677670155348167e-10\n"
     ]
    },
    {
     "name": "stderr",
     "output_type": "stream",
     "text": [
      "/opt/anaconda3/lib/python3.7/site-packages/ipykernel_launcher.py:32: DeprecationWarning: The truth value of an empty array is ambiguous. Returning False, but in future this will result in an error. Use `array.size > 0` to check that an array is not empty.\n"
     ]
    },
    {
     "name": "stdout",
     "output_type": "stream",
     "text": [
      "    value  counts\n",
      "0       0       3\n",
      "1       1       1\n",
      "2       2       1\n",
      "3       3       2\n",
      "4       4       1\n",
      "5       5       1\n",
      "6       6       1\n",
      "7       9       1\n",
      "8      10       1\n",
      "9      11      10\n",
      "10     13       3\n",
      "11     15       1\n",
      "12     16       4\n",
      "13     17       1\n",
      "14     19       8\n",
      "15     21       2\n",
      "16     22      30\n",
      "17     32      35 4.336601967398282e-10\n"
     ]
    },
    {
     "name": "stderr",
     "output_type": "stream",
     "text": [
      "/opt/anaconda3/lib/python3.7/site-packages/ipykernel_launcher.py:32: DeprecationWarning: The truth value of an empty array is ambiguous. Returning False, but in future this will result in an error. Use `array.size > 0` to check that an array is not empty.\n"
     ]
    },
    {
     "name": "stdout",
     "output_type": "stream",
     "text": [
      "    value  counts\n",
      "0       0       3\n",
      "1       1       1\n",
      "2       2       1\n",
      "3       3       2\n",
      "4       4       1\n",
      "5       5       1\n",
      "6       6       1\n",
      "7       9       1\n",
      "8      10       1\n",
      "9      11      10\n",
      "10     13       3\n",
      "11     15       1\n",
      "12     16       4\n",
      "13     17       1\n",
      "14     19       8\n",
      "15     21       2\n",
      "16     22      30\n",
      "17     32      36 2.168300983699141e-10\n"
     ]
    },
    {
     "name": "stderr",
     "output_type": "stream",
     "text": [
      "/opt/anaconda3/lib/python3.7/site-packages/ipykernel_launcher.py:32: DeprecationWarning: The truth value of an empty array is ambiguous. Returning False, but in future this will result in an error. Use `array.size > 0` to check that an array is not empty.\n"
     ]
    },
    {
     "name": "stdout",
     "output_type": "stream",
     "text": [
      "    value  counts\n",
      "0       0       3\n",
      "1       1       1\n",
      "2       2       1\n",
      "3       3       2\n",
      "4       4       1\n",
      "5       5       1\n",
      "6       6       1\n",
      "7       9       1\n",
      "8      10       1\n",
      "9      11      10\n",
      "10     13       3\n",
      "11     15       1\n",
      "12     16       4\n",
      "13     17       1\n",
      "14     19       8\n",
      "15     21       2\n",
      "16     22      30\n",
      "17     32      37 3.2524514755487116e-10\n"
     ]
    },
    {
     "name": "stderr",
     "output_type": "stream",
     "text": [
      "/opt/anaconda3/lib/python3.7/site-packages/ipykernel_launcher.py:32: DeprecationWarning: The truth value of an empty array is ambiguous. Returning False, but in future this will result in an error. Use `array.size > 0` to check that an array is not empty.\n"
     ]
    },
    {
     "name": "stdout",
     "output_type": "stream",
     "text": [
      "    value  counts\n",
      "0       0       3\n",
      "1       1       1\n",
      "2       2       1\n",
      "3       3       2\n",
      "4       4       1\n",
      "5       5       1\n",
      "6       6       1\n",
      "7       9       1\n",
      "8      10       1\n",
      "9      11      10\n",
      "10     13       3\n",
      "11     15       1\n",
      "12     16       4\n",
      "13     17       1\n",
      "14     19       8\n",
      "15     21       2\n",
      "16     22      30\n",
      "17     32      38 3.7945267214734967e-10\n"
     ]
    },
    {
     "name": "stderr",
     "output_type": "stream",
     "text": [
      "/opt/anaconda3/lib/python3.7/site-packages/ipykernel_launcher.py:32: DeprecationWarning: The truth value of an empty array is ambiguous. Returning False, but in future this will result in an error. Use `array.size > 0` to check that an array is not empty.\n"
     ]
    },
    {
     "name": "stdout",
     "output_type": "stream",
     "text": [
      "    value  counts\n",
      "0       0       3\n",
      "1       1       1\n",
      "2       2       1\n",
      "3       3       2\n",
      "4       4       1\n",
      "5       5       1\n",
      "6       6       1\n",
      "7       9       1\n",
      "8      10       1\n",
      "9      11      10\n",
      "10     13       3\n",
      "11     15       1\n",
      "12     16       4\n",
      "13     17       1\n",
      "14     19       8\n",
      "15     21       2\n",
      "16     22      30\n",
      "17     32      39 4.0655643444358893e-10\n"
     ]
    },
    {
     "name": "stderr",
     "output_type": "stream",
     "text": [
      "/opt/anaconda3/lib/python3.7/site-packages/ipykernel_launcher.py:32: DeprecationWarning: The truth value of an empty array is ambiguous. Returning False, but in future this will result in an error. Use `array.size > 0` to check that an array is not empty.\n"
     ]
    },
    {
     "name": "stdout",
     "output_type": "stream",
     "text": [
      "    value  counts\n",
      "0       0       3\n",
      "1       1       1\n",
      "2       2       1\n",
      "3       3       2\n",
      "4       4       1\n",
      "5       5       1\n",
      "6       6       1\n",
      "7       9       1\n",
      "8      10       1\n",
      "9      11      10\n",
      "10     13       3\n",
      "11     15       1\n",
      "12     16       4\n",
      "13     17       1\n",
      "14     19       8\n",
      "15     21       2\n",
      "16     22      30\n",
      "17     32      40 4.2010831559170856e-10\n"
     ]
    }
   ],
   "source": [
    "ebm_test_acc = []\n",
    "ebm_nonzero = []\n",
    "ebm_train_acc = []\n",
    "ntrials = 10\n",
    "threshold = 10**-3\n",
    "prob_type = 'Classification'\n",
    " #bisection function\n",
    "LL = 0\n",
    "RL = 1\n",
    "to_find = 0\n",
    "counter = 0\n",
    "counter1 = 0\n",
    "nfeatures = len(xTrain.columns)\n",
    "count_array = []\n",
    "trial = 0\n",
    "lambd = 0\n",
    "while trial <= ntrials:\n",
    "    ebm_result = build_ebm(xTrain,yTrain,xTest,yTest,lambd,threshold,prob_type)\n",
    "    while to_find <= nfeatures:\n",
    "        lambd = (LL + RL)/2\n",
    "        trial = 0\n",
    "        result1 = []\n",
    "        args = []\n",
    "        results = solve_lasso(xTrain,yTrain,xTest,yTest,lambd,threshold,prob_type,ebm_result)\n",
    "        test_acc = results[1]\n",
    "        nonzero = results[2]\n",
    "        train_acc = results[3]\n",
    "        count_array.append(nonzero)\n",
    "        freq = pd.DataFrame(np.column_stack(np.unique(count_array, return_counts = True)),columns = ['value','counts'])\n",
    "        count_to_find = freq.loc[freq['value']==to_find]['counts'].values\n",
    "        \n",
    "        if count_to_find > 0 :\n",
    "            counter1 = 0\n",
    "            RL = lambd\n",
    "            LL = 0\n",
    "            to_find = to_find + 1\n",
    "\n",
    "        elif counter1 >= 5:\n",
    "            counter1 = 0\n",
    "            RL = lambd\n",
    "            LL = 0\n",
    "            to_find = to_find + 1\n",
    "\n",
    "        elif nonzero < to_find:\n",
    "            RL = lambd\n",
    "            counter1 = counter1 + 1 \n",
    "\n",
    "        elif nonzero >= to_find:\n",
    "            LL = lambd\n",
    "            counter1 = counter1 + 1 \n",
    "            \n",
    "        print(freq,lambd)\n",
    "        \n",
    "        ebm_test_acc.append(test_acc)\n",
    "        ebm_nonzero.append(nonzero)\n",
    "        ebm_train_acc.append(train_acc)\n",
    "    trial = trial + 1"
   ]
  },
  {
   "cell_type": "code",
   "execution_count": null,
   "metadata": {},
   "outputs": [],
   "source": [
    "base_line_acc,baseline_nonzero,baseline_se = baseline(xTrain,yTrain,xTest,yTest,'Classification',[ 0,  1,  2,  3,  4,  5,  6,  7,  8,  9, 10, 12, 13])#np.unique(ebm_nonzero))"
   ]
  },
  {
   "cell_type": "code",
   "execution_count": null,
   "metadata": {
    "scrolled": false
   },
   "outputs": [],
   "source": [
    "\n",
    "plot_tradeoff_curve(ebm_test_acc,ebm_nonzero,'green',20,'lasso ebm')\n",
    "plt.scatter(baseline_nonzero,base_line_acc,label = 'baseline',color = 'grey')\n",
    "plt.errorbar(baseline_nonzero,base_line_acc, baseline_se,color = 'grey')\n",
    "\n",
    "plt.legend()\n",
    "plt.title('Churn')"
   ]
  },
  {
   "cell_type": "code",
   "execution_count": null,
   "metadata": {},
   "outputs": [],
   "source": []
  }
 ],
 "metadata": {
  "kernelspec": {
   "display_name": "Python 3",
   "language": "python",
   "name": "python3"
  },
  "language_info": {
   "codemirror_mode": {
    "name": "ipython",
    "version": 3
   },
   "file_extension": ".py",
   "mimetype": "text/x-python",
   "name": "python",
   "nbconvert_exporter": "python",
   "pygments_lexer": "ipython3",
   "version": "3.7.4"
  }
 },
 "nbformat": 4,
 "nbformat_minor": 4
}
